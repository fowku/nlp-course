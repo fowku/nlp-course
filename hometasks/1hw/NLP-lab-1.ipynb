{
 "cells": [
  {
   "cell_type": "markdown",
   "metadata": {},
   "source": [
    "## ЧАСТЬ I. Решите задания используя только стандартные методы Python 3"
   ]
  },
  {
   "cell_type": "markdown",
   "metadata": {},
   "source": [
    "### 1. Импортируйте число e из библиотеки math и выведите его с окргулением до 4 цифр после запятой"
   ]
  },
  {
   "cell_type": "code",
   "execution_count": 204,
   "metadata": {},
   "outputs": [
    {
     "name": "stdout",
     "output_type": "stream",
     "text": "2.7183\n"
    }
   ],
   "source": [
    "import numpy as np\n",
    "from math import e\n",
    "from math import sqrt\n",
    "\n",
    "\n",
    "print(round(e, 4))"
   ]
  },
  {
   "cell_type": "markdown",
   "metadata": {},
   "source": [
    "### 2. Вычислите целую часть результата деления 100 на 7. Убедитесь, что её тип – целое число."
   ]
  },
  {
   "cell_type": "code",
   "execution_count": 205,
   "metadata": {},
   "outputs": [
    {
     "name": "stdout",
     "output_type": "stream",
     "text": "14\nresult is integer\n"
    }
   ],
   "source": [
    "result = 100 // 7\n",
    "\n",
    "print(result)\n",
    "\n",
    "if (type(result) == int):\n",
    "    print('result is integer')"
   ]
  },
  {
   "cell_type": "markdown",
   "metadata": {},
   "source": [
    "### 3. Создайте список с квадратами целых чисел от 12 до 4 с шагом 2 не делящимися на 5."
   ]
  },
  {
   "cell_type": "code",
   "execution_count": 206,
   "metadata": {},
   "outputs": [
    {
     "name": "stdout",
     "output_type": "stream",
     "text": "[144, 64, 36, 16]\n"
    }
   ],
   "source": [
    "squares = [i**2 for i in reversed(range(4, 13, 2)) if i**2 % 5 != 0]\n",
    "print(squares)"
   ]
  },
  {
   "cell_type": "markdown",
   "metadata": {},
   "source": [
    "### 4.\tОтсортируйте полученный в пункте 3 список относительно модуля разницы между элементами этого списка и числом 50."
   ]
  },
  {
   "cell_type": "code",
   "execution_count": 207,
   "metadata": {},
   "outputs": [
    {
     "name": "stdout",
     "output_type": "stream",
     "text": "[64, 36, 16, 144]\n"
    }
   ],
   "source": [
    "squares.sort(key = lambda x: abs(x - 50))\n",
    "print(squares)"
   ]
  },
  {
   "cell_type": "markdown",
   "metadata": {},
   "source": [
    "### 5. Создайте множество (set) содержащее все 26 маленькие буквы латинского алфавита."
   ]
  },
  {
   "cell_type": "code",
   "execution_count": 208,
   "metadata": {},
   "outputs": [
    {
     "name": "stdout",
     "output_type": "stream",
     "text": "{'n', 'u', 'b', 'w', 'y', 'x', 'm', 'v', 'd', 'q', 'k', 'z', 'l', 'i', 'h', 'f', 'a', 'j', 'c', 'p', 'e', 't', 's', 'o', 'r', 'g'}\n26\n"
    }
   ],
   "source": [
    "alphabet = set(map(chr, range(ord('a'), ord('z') + 1))) # all lowercase letters from a to z\n",
    "print(alphabet)\n",
    "print(len(alphabet))"
   ]
  },
  {
   "cell_type": "markdown",
   "metadata": {},
   "source": [
    "### 6.\tСоздайте список, содержащий числа с повторениями. Используя словарь, подсчитайте, сколько раз каждое число встречалось в этом списке, и напечатайте содержимое словаря"
   ]
  },
  {
   "cell_type": "code",
   "execution_count": 209,
   "metadata": {},
   "outputs": [
    {
     "name": "stdout",
     "output_type": "stream",
     "text": "{0: 7, 1: 7, 2: 7, 3: 7, 4: 7, 5: 7, 6: 7, 7: 7, 8: 7, 9: 7, 10: 6, 11: 6, 12: 6, 13: 6, 14: 6}\n"
    }
   ],
   "source": [
    "numbers = [i % 15 for i in range(100)]\n",
    "\n",
    "occurrences = {}\n",
    "\n",
    "for key in numbers:\n",
    "    occurrences[key] = occurrences.get(key, 0) + 1\n",
    "\n",
    "print(occurrences)"
   ]
  },
  {
   "cell_type": "markdown",
   "metadata": {},
   "source": [
    "### 7. Реализуйте функцию от трёх аргументов a, b и c находящую вещественные корни уравнения ax2 + bx + c = 0, с нулевыми значениями аргументов по умолчанию"
   ]
  },
  {
   "cell_type": "code",
   "execution_count": 210,
   "metadata": {},
   "outputs": [
    {
     "name": "stdout",
     "output_type": "stream",
     "text": "(5.0, -0.3333333333333333)\n"
    }
   ],
   "source": [
    "def get_roots(a = 0, b = 0, c = 0):\n",
    "    discriminant = b**2 - 4*a*c\n",
    "    x = None\n",
    "    y = None\n",
    "\n",
    "    if (discriminant >= 0):\n",
    "        x1 = (-b + sqrt(discriminant)) / (2*a)\n",
    "        x2 = (-b - sqrt(discriminant)) / (2*a)\n",
    "\n",
    "    return (x1, x2)\n",
    "\n",
    "print(get_roots(3, -14, -5))"
   ]
  },
  {
   "cell_type": "markdown",
   "metadata": {},
   "source": [
    "### 8.\tРеализуйте класс Point с полями x,y заполняемыми в конструкторе"
   ]
  },
  {
   "cell_type": "code",
   "execution_count": 211,
   "metadata": {},
   "outputs": [],
   "source": [
    "class Point:\n",
    "    def __init__(self, x, y):\n",
    "        self.x = x\n",
    "        self.y = y\n",
    "\n",
    "    def calc_euclid_dist(self, point):\n",
    "        return sqrt((self.x - point.x)**2 + (self.y - point.y)**2)\n",
    "\n",
    "\n",
    "point_inside = Point(4, 10)\n",
    "point_outside = Point(5, 12)"
   ]
  },
  {
   "cell_type": "markdown",
   "metadata": {},
   "source": [
    "### 9. Реализуйте класс Circle наследника класса Point с дополнительным полем r и методом inside(p) проверяющим, что круг одержит точку p."
   ]
  },
  {
   "cell_type": "code",
   "execution_count": 212,
   "metadata": {},
   "outputs": [
    {
     "name": "stdout",
     "output_type": "stream",
     "text": "True\nFalse\n"
    }
   ],
   "source": [
    "class Circle(Point):\n",
    "    def __init__(self, x, y, radius):\n",
    "        super().__init__(x, y)\n",
    "        self.r = radius\n",
    "\n",
    "    def inside(self, p: Point):\n",
    "        return ((p.x - self.x)**2 + (p.y - self.y)**2) <= self.r**2\n",
    "\n",
    "\n",
    "circle = Circle(1, 2, 9)\n",
    "print(circle.inside(point_inside))\n",
    "print(circle.inside(point_outside))"
   ]
  },
  {
   "cell_type": "markdown",
   "metadata": {},
   "source": [
    "### 10. Реализуйте метод класса Point, принимающий другой объект класса Point и вычисляющий эвклидово расстояние до него"
   ]
  },
  {
   "cell_type": "code",
   "execution_count": 213,
   "metadata": {},
   "outputs": [
    {
     "name": "stdout",
     "output_type": "stream",
     "text": "2.23606797749979\n"
    }
   ],
   "source": [
    "print(point_outside.calc_euclid_dist(point_inside))"
   ]
  },
  {
   "cell_type": "markdown",
   "metadata": {},
   "source": [
    "## ЧАСТЬ II. Решите задачи используя библиотеку NumPy"
   ]
  },
  {
   "cell_type": "markdown",
   "metadata": {},
   "source": [
    "### 11. Создайте матрицу 4x4, значения элементов которой варьируются от 0 до 15"
   ]
  },
  {
   "cell_type": "code",
   "execution_count": 214,
   "metadata": {},
   "outputs": [
    {
     "name": "stdout",
     "output_type": "stream",
     "text": "[[ 0  1  2  3]\n [ 4  5  6  7]\n [ 8  9 10 11]\n [12 13 14 15]]\n"
    }
   ],
   "source": [
    "m44 = np.arange(16).reshape(4, 4)\n",
    "print(m44)"
   ]
  },
  {
   "cell_type": "markdown",
   "metadata": {},
   "source": [
    "### 12. Найдите индексы ненулевых элементов из списка [1,2,0,0,4,0,5,7,8,0,0,0]"
   ]
  },
  {
   "cell_type": "code",
   "execution_count": 215,
   "metadata": {},
   "outputs": [
    {
     "name": "stdout",
     "output_type": "stream",
     "text": "(array([0, 1, 4, 6, 7, 8]),)\n"
    }
   ],
   "source": [
    "lst = np.array([1, 2, 0, 0, 4, 0, 5, 7, 8, 0, 0, 0])\n",
    "\n",
    "indices = np.where(lst != 0)\n",
    "print(indices)"
   ]
  },
  {
   "cell_type": "markdown",
   "metadata": {},
   "source": [
    "### 13. Создайте единичную матрицу размера 3х3"
   ]
  },
  {
   "cell_type": "code",
   "execution_count": 216,
   "metadata": {},
   "outputs": [
    {
     "data": {
      "text/plain": "array([[1., 0., 0.],\n       [0., 1., 0.],\n       [0., 0., 1.]])"
     },
     "execution_count": 216,
     "metadata": {},
     "output_type": "execute_result"
    }
   ],
   "source": [
    "np.eye(3)"
   ]
  },
  {
   "cell_type": "markdown",
   "metadata": {},
   "source": [
    "### 14. Создайте матрицу 10х10, заполните её случайными значениями и найдите максимальный и минимальный элементы"
   ]
  },
  {
   "cell_type": "code",
   "execution_count": 217,
   "metadata": {},
   "outputs": [
    {
     "name": "stdout",
     "output_type": "stream",
     "text": "[[0.77782426 0.32266823 0.76688332 0.91162849 0.87987166 0.01414243\n  0.85415608 0.27729725 0.26718599 0.69202165]\n [0.62669816 0.70568113 0.19160035 0.04683901 0.74827678 0.25434951\n  0.73977461 0.50433172 0.37936261 0.69003317]\n [0.46807896 0.95966674 0.95754687 0.26467796 0.94192178 0.99345412\n  0.50309214 0.77507936 0.08406694 0.03321164]\n [0.77937931 0.20668161 0.25369378 0.48663281 0.59003858 0.89762417\n  0.34052982 0.64755204 0.39496703 0.8617031 ]\n [0.93809816 0.36341159 0.85954366 0.51130506 0.99184836 0.26807027\n  0.94838913 0.75342376 0.45533957 0.87794124]\n [0.6821038  0.12417433 0.4999044  0.18218804 0.53300411 0.71048059\n  0.28701215 0.2066452  0.17180196 0.56354783]\n [0.81854615 0.48478327 0.55825424 0.40858753 0.19793679 0.60521917\n  0.43081813 0.64475534 0.73056228 0.05386615]\n [0.2457814  0.81149304 0.07436877 0.85335971 0.97262788 0.52348676\n  0.66355566 0.62686886 0.86686631 0.48081289]\n [0.48237266 0.71619523 0.93185589 0.55092116 0.15066206 0.41643776\n  0.07228571 0.03502684 0.9603264  0.69091861]\n [0.04595719 0.93926302 0.29404334 0.97907869 0.92293116 0.87745133\n  0.93142257 0.98684752 0.84796374 0.68005394]]\n0.014142432333365873 0.9934541205672828\n"
    }
   ],
   "source": [
    "m1010 = np.random.random((10, 10))\n",
    "m1010_min = m1010.min()\n",
    "m1010_max = m1010.max()\n",
    "\n",
    "print(m1010)\n",
    "print(m1010_min, m1010_max)"
   ]
  },
  {
   "cell_type": "markdown",
   "metadata": {},
   "source": [
    "### 15. Создайте матрицу 5х5 и расположите в ней числа 1, 2, 3, 4 под главной диагональю"
   ]
  },
  {
   "cell_type": "code",
   "execution_count": 218,
   "metadata": {},
   "outputs": [
    {
     "name": "stdout",
     "output_type": "stream",
     "text": "[[0 0 0 0 0]\n [1 0 0 0 0]\n [0 2 0 0 0]\n [0 0 3 0 0]\n [0 0 0 4 0]]\n"
    }
   ],
   "source": [
    "m55 = np.diag(np.arange(1, 5), k = -1)\n",
    "print(m55)"
   ]
  },
  {
   "cell_type": "markdown",
   "metadata": {},
   "source": [
    "### 16. Перемножьте случайные матрицы размерностей 5х3 и 3х2"
   ]
  },
  {
   "cell_type": "code",
   "execution_count": 219,
   "metadata": {},
   "outputs": [
    {
     "name": "stdout",
     "output_type": "stream",
     "text": "[[0.74256207 1.40694212]\n [0.47844735 0.73348358]\n [0.61741728 1.28640918]\n [1.05199003 1.69183946]\n [0.44902411 0.87697048]]\n"
    }
   ],
   "source": [
    "m53 = np.random.random((5, 3))\n",
    "m32 = np.random.random((3, 2))\n",
    "\n",
    "print(np.dot(m53, m32))"
   ]
  },
  {
   "cell_type": "markdown",
   "metadata": {},
   "source": [
    "### 17. Найдите число из списка t, наиболее близкое по величине к числу a"
   ]
  },
  {
   "cell_type": "code",
   "execution_count": 220,
   "metadata": {},
   "outputs": [
    {
     "name": "stdout",
     "output_type": "stream",
     "text": "2\n"
    }
   ],
   "source": [
    "a = 2.39\n",
    "t = [0, 1, 1.2, 2, 3, 9]\n",
    "\n",
    "new_t = np.abs(np.array(t) - a)\n",
    "index = new_t.argmin()\n",
    "result = t[index]\n",
    "\n",
    "print(result)"
   ]
  },
  {
   "cell_type": "markdown",
   "metadata": {},
   "source": [
    "### 18. Создайте массив из 10 элементов и поменяйте значение его наибольшего элемента на 0 "
   ]
  },
  {
   "cell_type": "code",
   "execution_count": 221,
   "metadata": {},
   "outputs": [
    {
     "name": "stdout",
     "output_type": "stream",
     "text": "[0.63139903 0.30141642 0.9650559  0.         0.21867009 0.6561207\n 0.86397509 0.32955182 0.91765823 0.47211252]\n"
    }
   ],
   "source": [
    "m_max = np.random.random((10))\n",
    "m_max[m_max.argmax()] = 0\n",
    "print(m_max)"
   ]
  },
  {
   "cell_type": "markdown",
   "metadata": {},
   "source": [
    "### 19. Создайте матрицу 5x5 и поменяйте в ней местами 2 и 3 строку"
   ]
  },
  {
   "cell_type": "code",
   "execution_count": 222,
   "metadata": {},
   "outputs": [
    {
     "name": "stdout",
     "output_type": "stream",
     "text": "[[8 0 7 8 0]\n [1 1 1 0 7]\n [1 5 6 7 4]\n [5 1 0 0 7]\n [2 0 7 2 3]]\n\n\n[[8 0 7 8 0]\n [1 1 1 0 7]\n [5 1 0 0 7]\n [1 5 6 7 4]\n [2 0 7 2 3]]\n"
    }
   ],
   "source": [
    "matrix = np.random.randint(0, 9, size = (5, 5))\n",
    "print(matrix)\n",
    "print('\\n')\n",
    "\n",
    "matrix[2], matrix[3] = matrix[3], matrix[2].copy()\n",
    "print(matrix)"
   ]
  },
  {
   "cell_type": "markdown",
   "metadata": {},
   "source": [
    "### 20. Создайте случайную целочисленную матрицу и найдите наиболее часто встречающийся в ней элемент"
   ]
  },
  {
   "cell_type": "code",
   "execution_count": 223,
   "metadata": {},
   "outputs": [
    {
     "name": "stdout",
     "output_type": "stream",
     "text": "[[44 25 60 19 91 52 77 43 66]\n [95 53 60 84 77 63 54 20 96]\n [69 68 91 76 16 20  7 87 89]\n [25 37 55 78 73 99 86 29 78]\n [75 92  9  9 84 76 33 72 96]\n [87 55 66 70 66 19 51 20 40]\n [96 94 47 59 59 99 77 82 30]\n [95 35 55 41 16 25 97 31 40]\n [53 82 69 67 68 48 70 70  8]\n [ 7  7  1 51 71 12 42 63  8]\n [36 67 37 35 29 91 65 89 36]\n [ 3 93 92 92  5 62 37 58 88]\n [12 51 15 29 90 51 84  6 67]\n [56 23 78 57 64 48 34 46 18]\n [41 89  1 33 34 59 23 71 79]]\n51\n"
    }
   ],
   "source": [
    "n = np.random.randint(2, 20)\n",
    "m = np.random.randint(2, 20)\n",
    "\n",
    "matrix = np.random.randint(0, 100, size = (n, m))\n",
    "print(matrix)\n",
    "\n",
    "unique = np.unique(matrix, return_counts=True)\n",
    "index = unique[1].argmax()\n",
    "result = unique[0][index]\n",
    "\n",
    "print(result)"
   ]
  },
  {
   "cell_type": "markdown",
   "metadata": {},
   "source": [
    "## Часть III. Прочитайте краткий мануал по библиотеке pandas и выполните оставшиеся задания"
   ]
  },
  {
   "cell_type": "markdown",
   "metadata": {
    "colab_type": "text",
    "id": "sjJVY4CYcxNW"
   },
   "source": [
    "Pandas - это библиотека Python, предоставляющая широкие возможности для анализа данных. С ее помощью очень удобно загружать, обрабатывать и анализировать табличные данные с помощью SQL-подобных запросов. В связке с библиотеками Matplotlib и Seaborn появляется возможность удобного визуального анализа табличных данных.\n"
   ]
  },
  {
   "cell_type": "markdown",
   "metadata": {
    "colab_type": "text",
    "id": "G5ABRBGldX6c"
   },
   "source": [
    "Для использования библиотек их необходимо импортировать, что можно сделать с помощью команды import. После ключевого слова import указывается название библиотеки, а после as - ее краткое название (алиас), которое мы будем использовать в коде для краткого обозначения этой библиотеки."
   ]
  },
  {
   "cell_type": "code",
   "execution_count": 224,
   "metadata": {},
   "outputs": [],
   "source": [
    "import pandas as pd"
   ]
  },
  {
   "cell_type": "markdown",
   "metadata": {
    "colab_type": "text",
    "id": "zIg8XEVteZe_"
   },
   "source": [
    "Основными структурами данных в Pandas являются классы Series и DataFrame. Первый из них представляет собой одномерный индексированный массив данных некоторого фиксированного типа (его можно интеерпретировать как индексированный столбец таблицы). Второй - это двухмерная структура данных, представляющая собой таблицу, каждый столбец которой содержит данные одного типа. Можно представлять её как словарь объектов типа Series. Структура DataFrame отлично подходит для представления реальных данных: строки соответствуют признаковым описаниям отдельных объектов, а столбцы соответствуют признакам."
   ]
  },
  {
   "cell_type": "markdown",
   "metadata": {
    "colab_type": "text",
    "id": "m7BEyqMjs8L-"
   },
   "source": [
    "## Чтение из файла и первичный анализ\n",
    "Чаще всего, данные, которые мы будем анализировать, готовить  и использовать для обучения моделей, не формируются самостоятельно, а берутся из готового дататсета. Рассмотрим чтение датасета (DataFrame) из файла с расширением csv. В качестве примера возьмем titanic_train.csv, который содержить данные о пассажирах Титаника. Полный датасет titanic был разделен на 2 части - тренировочную и тестовую. Именно с тренировочной частью мы и будем работать. Датасет titanic предоставлен в рабочей папке Лаб_1, а также вы можете его скачать (titanic_train.csv) по ссылке https://www.kaggle.com/tedllh/titanic-train#titanic_train.csv. Если вы работаете на платформе Goggle Colab, необходимо сделать upload файла в вашу рабочую директорию ( в меню ноутбука слева  найти и перейти на Files, нажать Upload и выбрать файл для загрузки)\n",
    "\n",
    "Внимание! Проверьте, что файл находиться в папке content, если его там нет, то нажмите на нее правой кнопкой и upload. \n"
   ]
  },
  {
   "cell_type": "markdown",
   "metadata": {
    "colab_type": "text",
    "id": "-W69sFlrtNtF"
   },
   "source": [
    "### Чтение данных"
   ]
  },
  {
   "cell_type": "markdown",
   "metadata": {
    "colab_type": "text",
    "id": "2uCoeFJoqWpa"
   },
   "source": [
    "Для чтения csv файла используем функцию pd.read_csv"
   ]
  },
  {
   "cell_type": "code",
   "execution_count": 225,
   "metadata": {},
   "outputs": [],
   "source": [
    "import pandas as pd\n",
    "df = pd.read_csv('titanic_train.csv')"
   ]
  },
  {
   "cell_type": "markdown",
   "metadata": {
    "colab_type": "text",
    "id": "6rtdfLfItnIc"
   },
   "source": [
    "Посмотрим тип переменной df"
   ]
  },
  {
   "cell_type": "code",
   "execution_count": 226,
   "metadata": {},
   "outputs": [
    {
     "data": {
      "text/plain": "pandas.core.frame.DataFrame"
     },
     "execution_count": 226,
     "metadata": {},
     "output_type": "execute_result"
    }
   ],
   "source": [
    "type(df)"
   ]
  },
  {
   "cell_type": "markdown",
   "metadata": {
    "colab_type": "text",
    "id": "-ryV8-iUMc1O"
   },
   "source": [
    "### Первичный анализ"
   ]
  },
  {
   "cell_type": "markdown",
   "metadata": {
    "colab_type": "text",
    "id": "11Jgrd0KtwgV"
   },
   "source": [
    "После того, как мы считали данные, посмотрим первые несколько записей датафрейма (если в скобках после функции head не указать нужное количество записей, то по умолчанию будут выведены первые 5 записей датафрейма). Если вместо таблицы вы видите  \"кашу\" из данных, разделенных \";\", значит, ваш csv файл использует в качестве разделителя \";\", а не \",\". И для корректного чтения данных, нужно задать разделитель в функции чтения, например df = pd.read_csv('proba.csv', sep=\";\")"
   ]
  },
  {
   "cell_type": "code",
   "execution_count": 227,
   "metadata": {},
   "outputs": [
    {
     "data": {
      "text/html": "<div>\n<style scoped>\n    .dataframe tbody tr th:only-of-type {\n        vertical-align: middle;\n    }\n\n    .dataframe tbody tr th {\n        vertical-align: top;\n    }\n\n    .dataframe thead th {\n        text-align: right;\n    }\n</style>\n<table border=\"1\" class=\"dataframe\">\n  <thead>\n    <tr style=\"text-align: right;\">\n      <th></th>\n      <th>PassengerId</th>\n      <th>Survived</th>\n      <th>Pclass</th>\n      <th>Name</th>\n      <th>Sex</th>\n      <th>Age</th>\n      <th>SibSp</th>\n      <th>Parch</th>\n      <th>Ticket</th>\n      <th>Fare</th>\n      <th>Cabin</th>\n      <th>Embarked</th>\n    </tr>\n  </thead>\n  <tbody>\n    <tr>\n      <td>0</td>\n      <td>1</td>\n      <td>0</td>\n      <td>3</td>\n      <td>Braund, Mr. Owen Harris</td>\n      <td>male</td>\n      <td>22.0</td>\n      <td>1</td>\n      <td>0</td>\n      <td>A/5 21171</td>\n      <td>7.2500</td>\n      <td>NaN</td>\n      <td>S</td>\n    </tr>\n    <tr>\n      <td>1</td>\n      <td>2</td>\n      <td>1</td>\n      <td>1</td>\n      <td>Cumings, Mrs. John Bradley (Florence Briggs Th...</td>\n      <td>female</td>\n      <td>38.0</td>\n      <td>1</td>\n      <td>0</td>\n      <td>PC 17599</td>\n      <td>71.2833</td>\n      <td>C85</td>\n      <td>C</td>\n    </tr>\n    <tr>\n      <td>2</td>\n      <td>3</td>\n      <td>1</td>\n      <td>3</td>\n      <td>Heikkinen, Miss. Laina</td>\n      <td>female</td>\n      <td>26.0</td>\n      <td>0</td>\n      <td>0</td>\n      <td>STON/O2. 3101282</td>\n      <td>7.9250</td>\n      <td>NaN</td>\n      <td>S</td>\n    </tr>\n    <tr>\n      <td>3</td>\n      <td>4</td>\n      <td>1</td>\n      <td>1</td>\n      <td>Futrelle, Mrs. Jacques Heath (Lily May Peel)</td>\n      <td>female</td>\n      <td>35.0</td>\n      <td>1</td>\n      <td>0</td>\n      <td>113803</td>\n      <td>53.1000</td>\n      <td>C123</td>\n      <td>S</td>\n    </tr>\n    <tr>\n      <td>4</td>\n      <td>5</td>\n      <td>0</td>\n      <td>3</td>\n      <td>Allen, Mr. William Henry</td>\n      <td>male</td>\n      <td>35.0</td>\n      <td>0</td>\n      <td>0</td>\n      <td>373450</td>\n      <td>8.0500</td>\n      <td>NaN</td>\n      <td>S</td>\n    </tr>\n    <tr>\n      <td>5</td>\n      <td>6</td>\n      <td>0</td>\n      <td>3</td>\n      <td>Moran, Mr. James</td>\n      <td>male</td>\n      <td>NaN</td>\n      <td>0</td>\n      <td>0</td>\n      <td>330877</td>\n      <td>8.4583</td>\n      <td>NaN</td>\n      <td>Q</td>\n    </tr>\n    <tr>\n      <td>6</td>\n      <td>7</td>\n      <td>0</td>\n      <td>1</td>\n      <td>McCarthy, Mr. Timothy J</td>\n      <td>male</td>\n      <td>54.0</td>\n      <td>0</td>\n      <td>0</td>\n      <td>17463</td>\n      <td>51.8625</td>\n      <td>E46</td>\n      <td>S</td>\n    </tr>\n    <tr>\n      <td>7</td>\n      <td>8</td>\n      <td>0</td>\n      <td>3</td>\n      <td>Palsson, Master. Gosta Leonard</td>\n      <td>male</td>\n      <td>2.0</td>\n      <td>3</td>\n      <td>1</td>\n      <td>349909</td>\n      <td>21.0750</td>\n      <td>NaN</td>\n      <td>S</td>\n    </tr>\n    <tr>\n      <td>8</td>\n      <td>9</td>\n      <td>1</td>\n      <td>3</td>\n      <td>Johnson, Mrs. Oscar W (Elisabeth Vilhelmina Berg)</td>\n      <td>female</td>\n      <td>27.0</td>\n      <td>0</td>\n      <td>2</td>\n      <td>347742</td>\n      <td>11.1333</td>\n      <td>NaN</td>\n      <td>S</td>\n    </tr>\n    <tr>\n      <td>9</td>\n      <td>10</td>\n      <td>1</td>\n      <td>2</td>\n      <td>Nasser, Mrs. Nicholas (Adele Achem)</td>\n      <td>female</td>\n      <td>14.0</td>\n      <td>1</td>\n      <td>0</td>\n      <td>237736</td>\n      <td>30.0708</td>\n      <td>NaN</td>\n      <td>C</td>\n    </tr>\n  </tbody>\n</table>\n</div>",
      "text/plain": "   PassengerId  Survived  Pclass  \\\n0            1         0       3   \n1            2         1       1   \n2            3         1       3   \n3            4         1       1   \n4            5         0       3   \n5            6         0       3   \n6            7         0       1   \n7            8         0       3   \n8            9         1       3   \n9           10         1       2   \n\n                                                Name     Sex   Age  SibSp  \\\n0                            Braund, Mr. Owen Harris    male  22.0      1   \n1  Cumings, Mrs. John Bradley (Florence Briggs Th...  female  38.0      1   \n2                             Heikkinen, Miss. Laina  female  26.0      0   \n3       Futrelle, Mrs. Jacques Heath (Lily May Peel)  female  35.0      1   \n4                           Allen, Mr. William Henry    male  35.0      0   \n5                                   Moran, Mr. James    male   NaN      0   \n6                            McCarthy, Mr. Timothy J    male  54.0      0   \n7                     Palsson, Master. Gosta Leonard    male   2.0      3   \n8  Johnson, Mrs. Oscar W (Elisabeth Vilhelmina Berg)  female  27.0      0   \n9                Nasser, Mrs. Nicholas (Adele Achem)  female  14.0      1   \n\n   Parch            Ticket     Fare Cabin Embarked  \n0      0         A/5 21171   7.2500   NaN        S  \n1      0          PC 17599  71.2833   C85        C  \n2      0  STON/O2. 3101282   7.9250   NaN        S  \n3      0            113803  53.1000  C123        S  \n4      0            373450   8.0500   NaN        S  \n5      0            330877   8.4583   NaN        Q  \n6      0             17463  51.8625   E46        S  \n7      1            349909  21.0750   NaN        S  \n8      2            347742  11.1333   NaN        S  \n9      0            237736  30.0708   NaN        C  "
     },
     "execution_count": 227,
     "metadata": {},
     "output_type": "execute_result"
    }
   ],
   "source": [
    "df.head(10)"
   ]
  },
  {
   "cell_type": "markdown",
   "metadata": {
    "colab_type": "text",
    "id": "kUufGVpKvk1A"
   },
   "source": [
    "Давайте посмотрим, что это за данные. Достаточно часто датасеты имеют краткое описание содержимого. Например, что означает тот или иной столбец, какие значения используются для заполнения и т.д. Или значения признаков интуитивно понятны. В нашем случае, мы имеем следующие данные:\n",
    "каждая строка - это сведения об отдельном пассажире. Строка содержит:\n",
    "*   PassengerId - идентификатор пассажира (проще говоря, порядковый номер строки)\n",
    "*   Survived - признак, выжил ли пассажир после крушения (0 - погиб, 1 - выжил)\n",
    "*   Pclass - в каком классе ехал пассажир (1, 2 или 3)\n",
    "*   Name - имя пассажира\n",
    "*   Sex - пол (male - мужской, female - женский)\n",
    "*   Age - возраст\n",
    "*   SibSp - количество родственников (по горизонтали - супруг, братья, сестры) на борту\n",
    "*   Parch - количество родственников (по вертикали - родители, дети) на борту \n",
    "*   Ticket - номер билета\n",
    "*   Fare - цена билета\n",
    "*   Cabin - номер каюты\n",
    "*   Embarked - порт посадки (C — Cherbourg, Q — Queenstown, S — Southampton)\n",
    "\n",
    "\n",
    "\n"
   ]
  },
  {
   "cell_type": "markdown",
   "metadata": {
    "colab_type": "text",
    "id": "MBgJoJYD4HCf"
   },
   "source": [
    "Команда shape() показывате размерность датафрейма"
   ]
  },
  {
   "cell_type": "markdown",
   "metadata": {
    "colab_type": "text",
    "id": "Lpg2DdiN4NL9"
   },
   "source": [
    "Мы видим, что в нашем датафрейме 891 строка (то есть, сведения о 891 пассажире) и 12 столбцов признаков"
   ]
  },
  {
   "cell_type": "code",
   "execution_count": 228,
   "metadata": {},
   "outputs": [
    {
     "data": {
      "text/plain": "(891, 12)"
     },
     "execution_count": 228,
     "metadata": {},
     "output_type": "execute_result"
    }
   ],
   "source": [
    "df.shape"
   ]
  },
  {
   "cell_type": "markdown",
   "metadata": {
    "colab_type": "text",
    "id": "16kl-_TqebjJ"
   },
   "source": [
    "Команда columns.values() показывате название всех признаков"
   ]
  },
  {
   "cell_type": "code",
   "execution_count": 229,
   "metadata": {},
   "outputs": [
    {
     "data": {
      "text/plain": "array(['PassengerId', 'Survived', 'Pclass', 'Name', 'Sex', 'Age', 'SibSp',\n       'Parch', 'Ticket', 'Fare', 'Cabin', 'Embarked'], dtype=object)"
     },
     "execution_count": 229,
     "metadata": {},
     "output_type": "execute_result"
    }
   ],
   "source": [
    "df.columns.values"
   ]
  },
  {
   "cell_type": "markdown",
   "metadata": {
    "colab_type": "text",
    "id": "ZOnYvyDfEuRr"
   },
   "source": [
    "Также полезно посмотреть метод info, который показывает краткую статистику по набору данных"
   ]
  },
  {
   "cell_type": "code",
   "execution_count": 230,
   "metadata": {},
   "outputs": [
    {
     "name": "stdout",
     "output_type": "stream",
     "text": "<class 'pandas.core.frame.DataFrame'>\nRangeIndex: 891 entries, 0 to 890\nData columns (total 12 columns):\nPassengerId    891 non-null int64\nSurvived       891 non-null int64\nPclass         891 non-null int64\nName           891 non-null object\nSex            891 non-null object\nAge            714 non-null float64\nSibSp          891 non-null int64\nParch          891 non-null int64\nTicket         891 non-null object\nFare           891 non-null float64\nCabin          204 non-null object\nEmbarked       889 non-null object\ndtypes: float64(2), int64(5), object(5)\nmemory usage: 83.7+ KB\n"
    }
   ],
   "source": [
    "df.info()"
   ]
  },
  {
   "cell_type": "markdown",
   "metadata": {
    "colab_type": "text",
    "id": "4ujf8CzK4bdJ"
   },
   "source": [
    "Можно увидеть, что не все признаки у нас заполнены в каждой строке,для некоторых признаков есть пропуски. Например, у нас 891 строка, а Age (возраст) заполнен только в 714 строках. Совсем мало значений в столбце Cabin. \n",
    "\n",
    "Есть несколько вариантов работы с такими строками: \n",
    "* их можно оставить без изменений, если признак, в котором пропущены данные, малозначим;\n",
    "* можно удалить все строки, в которых есть пустые значения;\n",
    "* можно заполнить их какими-либо значениями (0, медианой или любыми другими константами).\n",
    "\n",
    "Метод info так же показывает какого типа данные в том или ином столбце: цифровые (int или float), текстовые и т.д. В последней строке указан объем памяти, которую занимает датафрейм. При больших объемах данных это позволяет оценить хватит ли вам ресурсов для загрузки в память полного датасета"
   ]
  },
  {
   "cell_type": "markdown",
   "metadata": {
    "colab_type": "text",
    "id": "A28wj4YRH0pc"
   },
   "source": [
    "Еще один полезный метод для начального анализа данных - метод describe(), который выдает краткую статистику по числовым признакам: среднее, стандартное отклонение, минимум, максимум, медианы, квартили и т.д. Самостоятельно посмотрите, что означает каждое понятие. "
   ]
  },
  {
   "cell_type": "code",
   "execution_count": 231,
   "metadata": {},
   "outputs": [
    {
     "data": {
      "text/html": "<div>\n<style scoped>\n    .dataframe tbody tr th:only-of-type {\n        vertical-align: middle;\n    }\n\n    .dataframe tbody tr th {\n        vertical-align: top;\n    }\n\n    .dataframe thead th {\n        text-align: right;\n    }\n</style>\n<table border=\"1\" class=\"dataframe\">\n  <thead>\n    <tr style=\"text-align: right;\">\n      <th></th>\n      <th>PassengerId</th>\n      <th>Survived</th>\n      <th>Pclass</th>\n      <th>Age</th>\n      <th>SibSp</th>\n      <th>Parch</th>\n      <th>Fare</th>\n    </tr>\n  </thead>\n  <tbody>\n    <tr>\n      <td>count</td>\n      <td>891.000000</td>\n      <td>891.000000</td>\n      <td>891.000000</td>\n      <td>714.000000</td>\n      <td>891.000000</td>\n      <td>891.000000</td>\n      <td>891.000000</td>\n    </tr>\n    <tr>\n      <td>mean</td>\n      <td>446.000000</td>\n      <td>0.383838</td>\n      <td>2.308642</td>\n      <td>29.699118</td>\n      <td>0.523008</td>\n      <td>0.381594</td>\n      <td>32.204208</td>\n    </tr>\n    <tr>\n      <td>std</td>\n      <td>257.353842</td>\n      <td>0.486592</td>\n      <td>0.836071</td>\n      <td>14.526497</td>\n      <td>1.102743</td>\n      <td>0.806057</td>\n      <td>49.693429</td>\n    </tr>\n    <tr>\n      <td>min</td>\n      <td>1.000000</td>\n      <td>0.000000</td>\n      <td>1.000000</td>\n      <td>0.420000</td>\n      <td>0.000000</td>\n      <td>0.000000</td>\n      <td>0.000000</td>\n    </tr>\n    <tr>\n      <td>25%</td>\n      <td>223.500000</td>\n      <td>0.000000</td>\n      <td>2.000000</td>\n      <td>20.125000</td>\n      <td>0.000000</td>\n      <td>0.000000</td>\n      <td>7.910400</td>\n    </tr>\n    <tr>\n      <td>50%</td>\n      <td>446.000000</td>\n      <td>0.000000</td>\n      <td>3.000000</td>\n      <td>28.000000</td>\n      <td>0.000000</td>\n      <td>0.000000</td>\n      <td>14.454200</td>\n    </tr>\n    <tr>\n      <td>75%</td>\n      <td>668.500000</td>\n      <td>1.000000</td>\n      <td>3.000000</td>\n      <td>38.000000</td>\n      <td>1.000000</td>\n      <td>0.000000</td>\n      <td>31.000000</td>\n    </tr>\n    <tr>\n      <td>max</td>\n      <td>891.000000</td>\n      <td>1.000000</td>\n      <td>3.000000</td>\n      <td>80.000000</td>\n      <td>8.000000</td>\n      <td>6.000000</td>\n      <td>512.329200</td>\n    </tr>\n  </tbody>\n</table>\n</div>",
      "text/plain": "       PassengerId    Survived      Pclass         Age       SibSp  \\\ncount   891.000000  891.000000  891.000000  714.000000  891.000000   \nmean    446.000000    0.383838    2.308642   29.699118    0.523008   \nstd     257.353842    0.486592    0.836071   14.526497    1.102743   \nmin       1.000000    0.000000    1.000000    0.420000    0.000000   \n25%     223.500000    0.000000    2.000000   20.125000    0.000000   \n50%     446.000000    0.000000    3.000000   28.000000    0.000000   \n75%     668.500000    1.000000    3.000000   38.000000    1.000000   \nmax     891.000000    1.000000    3.000000   80.000000    8.000000   \n\n            Parch        Fare  \ncount  891.000000  891.000000  \nmean     0.381594   32.204208  \nstd      0.806057   49.693429  \nmin      0.000000    0.000000  \n25%      0.000000    7.910400  \n50%      0.000000   14.454200  \n75%      0.000000   31.000000  \nmax      6.000000  512.329200  "
     },
     "execution_count": 231,
     "metadata": {},
     "output_type": "execute_result"
    }
   ],
   "source": [
    "df.describe()"
   ]
  },
  {
   "cell_type": "markdown",
   "metadata": {
    "colab_type": "text",
    "id": "iTPCktTEMkTX"
   },
   "source": [
    "## Доступ к элементам данных"
   ]
  },
  {
   "cell_type": "markdown",
   "metadata": {
    "colab_type": "text",
    "id": "X4cp32dRx1Hz"
   },
   "source": [
    "### Доступ к элементам DataFrame"
   ]
  },
  {
   "cell_type": "markdown",
   "metadata": {
    "colab_type": "text",
    "id": "b8gbfFvZ4bgu"
   },
   "source": [
    "Разберемся как посмотреть какие-то конкретные значения в датафрейме. Наш датафрейм представляет собой таблицу, состоящую из строк и столбцов. Обратиться к конкретному столбцу можно используя его имя. Например, выведем первые 10 строк из столбца с возрастом пассажиров"
   ]
  },
  {
   "cell_type": "code",
   "execution_count": 232,
   "metadata": {},
   "outputs": [
    {
     "data": {
      "text/plain": "0    22.0\n1    38.0\n2    26.0\n3    35.0\n4    35.0\n5     NaN\n6    54.0\n7     2.0\n8    27.0\n9    14.0\nName: Age, dtype: float64"
     },
     "execution_count": 232,
     "metadata": {},
     "output_type": "execute_result"
    }
   ],
   "source": [
    "df['Age'].head(10)"
   ]
  },
  {
   "cell_type": "markdown",
   "metadata": {
    "colab_type": "text",
    "id": "U2RLfi_1ewLN"
   },
   "source": [
    "Второй способ обращения - через \".\""
   ]
  },
  {
   "cell_type": "code",
   "execution_count": 233,
   "metadata": {},
   "outputs": [
    {
     "data": {
      "text/plain": "0    22.0\n1    38.0\n2    26.0\n3    35.0\n4    35.0\n5     NaN\n6    54.0\n7     2.0\n8    27.0\n9    14.0\nName: Age, dtype: float64"
     },
     "execution_count": 233,
     "metadata": {},
     "output_type": "execute_result"
    }
   ],
   "source": [
    "df.Age.head(10)"
   ]
  },
  {
   "cell_type": "markdown",
   "metadata": {
    "colab_type": "text",
    "id": "SXpeD9dsJ2w6"
   },
   "source": [
    "Столбец таблицы - это объек Pandas Series, убедимся в этом определив тип полученного объекта. Этот объект проиндексирован (слева печатаются индексы). В нижней строке есть информацию о его имени и типе значений.\n",
    "Кроме того, здесь хорошо видны пропуски (незаполненные значения) в некоторых строках (они обозначены NaN - Not-A-Number)"
   ]
  },
  {
   "cell_type": "code",
   "execution_count": 234,
   "metadata": {},
   "outputs": [
    {
     "data": {
      "text/plain": "pandas.core.series.Series"
     },
     "execution_count": 234,
     "metadata": {},
     "output_type": "execute_result"
    }
   ],
   "source": [
    "type(df['Age'])"
   ]
  },
  {
   "cell_type": "markdown",
   "metadata": {
    "colab_type": "text",
    "id": "ycHZL4wLMNc8"
   },
   "source": [
    "Кроме обращения к столбцу по имени, можно использовать индексацию с помощью методов loc и iloc"
   ]
  },
  {
   "cell_type": "markdown",
   "metadata": {
    "colab_type": "text",
    "id": "Ne8BeNj5M1QQ"
   },
   "source": [
    "Метод loc выдает нам подматрицу, используя индексы строк и столбцов. Первый аргумент отвечает за количество записей (как с начала, так и при желании с любого места), а второй - за отраженные в подматрице признаки.\n"
   ]
  },
  {
   "cell_type": "code",
   "execution_count": 235,
   "metadata": {},
   "outputs": [
    {
     "data": {
      "text/html": "<div>\n<style scoped>\n    .dataframe tbody tr th:only-of-type {\n        vertical-align: middle;\n    }\n\n    .dataframe tbody tr th {\n        vertical-align: top;\n    }\n\n    .dataframe thead th {\n        text-align: right;\n    }\n</style>\n<table border=\"1\" class=\"dataframe\">\n  <thead>\n    <tr style=\"text-align: right;\">\n      <th></th>\n      <th>Pclass</th>\n      <th>Fare</th>\n    </tr>\n  </thead>\n  <tbody>\n    <tr>\n      <td>0</td>\n      <td>3</td>\n      <td>7.2500</td>\n    </tr>\n    <tr>\n      <td>1</td>\n      <td>1</td>\n      <td>71.2833</td>\n    </tr>\n    <tr>\n      <td>2</td>\n      <td>3</td>\n      <td>7.9250</td>\n    </tr>\n    <tr>\n      <td>3</td>\n      <td>1</td>\n      <td>53.1000</td>\n    </tr>\n    <tr>\n      <td>4</td>\n      <td>3</td>\n      <td>8.0500</td>\n    </tr>\n    <tr>\n      <td>5</td>\n      <td>3</td>\n      <td>8.4583</td>\n    </tr>\n  </tbody>\n</table>\n</div>",
      "text/plain": "   Pclass     Fare\n0       3   7.2500\n1       1  71.2833\n2       3   7.9250\n3       1  53.1000\n4       3   8.0500\n5       3   8.4583"
     },
     "execution_count": 235,
     "metadata": {},
     "output_type": "execute_result"
    }
   ],
   "source": [
    "df.loc[0:5, ['Pclass', 'Fare']]"
   ]
  },
  {
   "cell_type": "markdown",
   "metadata": {
    "colab_type": "text",
    "id": "abcixFoA4bug"
   },
   "source": [
    "Метод iloc работает схожим образом, за исключением того, что второй аргумент теперь тоже индексы, то есть отражает количество признаков.\n"
   ]
  },
  {
   "cell_type": "code",
   "execution_count": 236,
   "metadata": {},
   "outputs": [
    {
     "data": {
      "text/html": "<div>\n<style scoped>\n    .dataframe tbody tr th:only-of-type {\n        vertical-align: middle;\n    }\n\n    .dataframe tbody tr th {\n        vertical-align: top;\n    }\n\n    .dataframe thead th {\n        text-align: right;\n    }\n</style>\n<table border=\"1\" class=\"dataframe\">\n  <thead>\n    <tr style=\"text-align: right;\">\n      <th></th>\n      <th>Survived</th>\n      <th>Pclass</th>\n    </tr>\n  </thead>\n  <tbody>\n    <tr>\n      <td>0</td>\n      <td>0</td>\n      <td>3</td>\n    </tr>\n    <tr>\n      <td>1</td>\n      <td>1</td>\n      <td>1</td>\n    </tr>\n    <tr>\n      <td>2</td>\n      <td>1</td>\n      <td>3</td>\n    </tr>\n    <tr>\n      <td>3</td>\n      <td>1</td>\n      <td>1</td>\n    </tr>\n    <tr>\n      <td>4</td>\n      <td>0</td>\n      <td>3</td>\n    </tr>\n  </tbody>\n</table>\n</div>",
      "text/plain": "   Survived  Pclass\n0         0       3\n1         1       1\n2         1       3\n3         1       1\n4         0       3"
     },
     "execution_count": 236,
     "metadata": {},
     "output_type": "execute_result"
    }
   ],
   "source": [
    "df.iloc[0:5, 1:3]"
   ]
  },
  {
   "cell_type": "markdown",
   "metadata": {
    "colab_type": "text",
    "id": "2W_MTx-WyK6w"
   },
   "source": [
    "# Доступ к элементам Series"
   ]
  },
  {
   "cell_type": "markdown",
   "metadata": {
    "colab_type": "text",
    "id": "XxsGabTz4b4T"
   },
   "source": [
    "Для примера создадим два объекта Series"
   ]
  },
  {
   "cell_type": "code",
   "execution_count": 237,
   "metadata": {},
   "outputs": [
    {
     "name": "stdout",
     "output_type": "stream",
     "text": "0      one\n1      two\n2    three\n3     four\n4     five\ndtype: object\n"
    }
   ],
   "source": [
    "s1 = pd.Series([\"one\", \"two\", \"three\", \"four\", \"five\"]) # передаем список, индексы проставляются автоматически с 0\n",
    "print(s1)"
   ]
  },
  {
   "cell_type": "code",
   "execution_count": 238,
   "metadata": {},
   "outputs": [
    {
     "name": "stdout",
     "output_type": "stream",
     "text": "a    1\nb    2\nc    3\nd    4\ne    5\ndtype: int64\n"
    }
   ],
   "source": [
    "s2 = pd.Series([1, 2, 3, 4, 5], ['a', 'b', 'c', 'd', 'e'])  # передаем список, индексы заданы символами от 'a' до 'e'\n",
    "print(s2)"
   ]
  },
  {
   "cell_type": "markdown",
   "metadata": {
    "colab_type": "text",
    "id": "fu4bnCJ-zWmh"
   },
   "source": [
    "К элементам Series можно обращаться по численному индексу через \"[ ]\""
   ]
  },
  {
   "cell_type": "code",
   "execution_count": 239,
   "metadata": {},
   "outputs": [
    {
     "data": {
      "text/plain": "3"
     },
     "execution_count": 239,
     "metadata": {},
     "output_type": "execute_result"
    }
   ],
   "source": [
    "s2[2] # второй элемент серии s2 (индексация с 0)"
   ]
  },
  {
   "cell_type": "markdown",
   "metadata": {
    "colab_type": "text",
    "id": "IJsaC78YzWmm"
   },
   "source": [
    "К элементам Series можно обращаться по метке:"
   ]
  },
  {
   "cell_type": "code",
   "execution_count": 240,
   "metadata": {},
   "outputs": [
    {
     "data": {
      "text/plain": "3"
     },
     "execution_count": 240,
     "metadata": {},
     "output_type": "execute_result"
    }
   ],
   "source": [
    "s2['c']"
   ]
  },
  {
   "cell_type": "markdown",
   "metadata": {
    "colab_type": "text",
    "id": "BOFYDD-BzWmr"
   },
   "source": [
    "К элементам Series можно применять так называемые slice (срезы) через ':'.\n",
    "Срезами является часть серии до или после определенного элемента"
   ]
  },
  {
   "cell_type": "code",
   "execution_count": 241,
   "metadata": {},
   "outputs": [
    {
     "data": {
      "text/plain": "a    1\nb    2\ndtype: int64"
     },
     "execution_count": 241,
     "metadata": {},
     "output_type": "execute_result"
    }
   ],
   "source": [
    "s2[:2] # все элементы до второго включительно"
   ]
  },
  {
   "cell_type": "code",
   "execution_count": 242,
   "metadata": {},
   "outputs": [
    {
     "data": {
      "text/plain": "c    3\nd    4\ne    5\ndtype: int64"
     },
     "execution_count": 242,
     "metadata": {},
     "output_type": "execute_result"
    }
   ],
   "source": [
    "s2[2:] # второй и все элементы после второго до конца"
   ]
  },
  {
   "cell_type": "code",
   "execution_count": 243,
   "metadata": {},
   "outputs": [
    {
     "data": {
      "text/plain": "c    3\nd    4\ndtype: int64"
     },
     "execution_count": 243,
     "metadata": {},
     "output_type": "execute_result"
    }
   ],
   "source": [
    "s2[2:4] # все элементы со второго по четвертый не включительно. Последний никогда не включается."
   ]
  },
  {
   "cell_type": "code",
   "execution_count": 244,
   "metadata": {},
   "outputs": [
    {
     "data": {
      "text/plain": "a    1\nb    2\nc    3\nd    4\ne    5\ndtype: int64"
     },
     "execution_count": 244,
     "metadata": {},
     "output_type": "execute_result"
    }
   ],
   "source": [
    "s2[:] # все элементы"
   ]
  },
  {
   "cell_type": "markdown",
   "metadata": {
    "colab_type": "text",
    "id": "nYQFy1gyzWmy"
   },
   "source": [
    "В поле для индекса можно поместить условное выражение.\n",
    "Данное выражение можно перевести как вопрос, является ли значение элемента (признака) меньшим или равным двум."
   ]
  },
  {
   "cell_type": "code",
   "execution_count": 245,
   "metadata": {},
   "outputs": [
    {
     "data": {
      "text/plain": "a    1\nb    2\ndtype: int64"
     },
     "execution_count": 245,
     "metadata": {},
     "output_type": "execute_result"
    }
   ],
   "source": [
    "s2[s2 <= 2]"
   ]
  },
  {
   "cell_type": "markdown",
   "metadata": {
    "colab_type": "text",
    "id": "ckQnNZAjn4mL"
   },
   "source": [
    "Или даже несколько условных выражений, отделенных \"( )\". \n",
    "\n",
    "Если соединить два условия знаком \"&\", то результат будет удовлетворять двум условиям, а если знаком \"|\", то хотя бы одному из них."
   ]
  },
  {
   "cell_type": "code",
   "execution_count": 246,
   "metadata": {},
   "outputs": [
    {
     "data": {
      "text/plain": "b    2\nc    3\nd    4\ndtype: int64"
     },
     "execution_count": 246,
     "metadata": {},
     "output_type": "execute_result"
    }
   ],
   "source": [
    "s2[(s2 >= 2) & (s2 <=4)]"
   ]
  },
  {
   "cell_type": "code",
   "execution_count": 247,
   "metadata": {},
   "outputs": [
    {
     "data": {
      "text/plain": "a    1\nb    2\ne    5\ndtype: int64"
     },
     "execution_count": 247,
     "metadata": {},
     "output_type": "execute_result"
    }
   ],
   "source": [
    "s2[(s2 <= 2) | (s2 == 5)]"
   ]
  },
  {
   "cell_type": "markdown",
   "metadata": {
    "colab_type": "text",
    "id": "cXVo5eJvo5Hc"
   },
   "source": [
    "Важно, что в условных выражениях равенство пишется как \"==\" (два знака \"равно\")."
   ]
  },
  {
   "cell_type": "markdown",
   "metadata": {
    "colab_type": "text",
    "id": "kagxI_NfzWm1"
   },
   "source": [
    "Со структурами Series можно работать как с векторами: складывать, умножать вектор на число и т.п."
   ]
  },
  {
   "cell_type": "code",
   "execution_count": 248,
   "metadata": {},
   "outputs": [],
   "source": [
    "s3 = s2 + 10"
   ]
  },
  {
   "cell_type": "code",
   "execution_count": 249,
   "metadata": {},
   "outputs": [
    {
     "name": "stdout",
     "output_type": "stream",
     "text": "a    11\nb    12\nc    13\nd    14\ne    15\ndtype: int64\n"
    }
   ],
   "source": [
    "print(s3)"
   ]
  },
  {
   "cell_type": "markdown",
   "metadata": {
    "colab_type": "text",
    "id": "gnyZuP3taQhB"
   },
   "source": [
    "## Примеры анализа информации"
   ]
  },
  {
   "cell_type": "markdown",
   "metadata": {
    "colab_type": "text",
    "id": "o76V1-_t09-T"
   },
   "source": [
    "Для примера отберем пассажиров мужского пола, возраст которых меньше сорока лет."
   ]
  },
  {
   "cell_type": "code",
   "execution_count": 250,
   "metadata": {},
   "outputs": [
    {
     "data": {
      "text/html": "<div>\n<style scoped>\n    .dataframe tbody tr th:only-of-type {\n        vertical-align: middle;\n    }\n\n    .dataframe tbody tr th {\n        vertical-align: top;\n    }\n\n    .dataframe thead th {\n        text-align: right;\n    }\n</style>\n<table border=\"1\" class=\"dataframe\">\n  <thead>\n    <tr style=\"text-align: right;\">\n      <th></th>\n      <th>PassengerId</th>\n      <th>Survived</th>\n      <th>Pclass</th>\n      <th>Name</th>\n      <th>Sex</th>\n      <th>Age</th>\n      <th>SibSp</th>\n      <th>Parch</th>\n      <th>Ticket</th>\n      <th>Fare</th>\n      <th>Cabin</th>\n      <th>Embarked</th>\n    </tr>\n  </thead>\n  <tbody>\n    <tr>\n      <td>0</td>\n      <td>1</td>\n      <td>0</td>\n      <td>3</td>\n      <td>Braund, Mr. Owen Harris</td>\n      <td>male</td>\n      <td>22.0</td>\n      <td>1</td>\n      <td>0</td>\n      <td>A/5 21171</td>\n      <td>7.250</td>\n      <td>NaN</td>\n      <td>S</td>\n    </tr>\n    <tr>\n      <td>4</td>\n      <td>5</td>\n      <td>0</td>\n      <td>3</td>\n      <td>Allen, Mr. William Henry</td>\n      <td>male</td>\n      <td>35.0</td>\n      <td>0</td>\n      <td>0</td>\n      <td>373450</td>\n      <td>8.050</td>\n      <td>NaN</td>\n      <td>S</td>\n    </tr>\n    <tr>\n      <td>7</td>\n      <td>8</td>\n      <td>0</td>\n      <td>3</td>\n      <td>Palsson, Master. Gosta Leonard</td>\n      <td>male</td>\n      <td>2.0</td>\n      <td>3</td>\n      <td>1</td>\n      <td>349909</td>\n      <td>21.075</td>\n      <td>NaN</td>\n      <td>S</td>\n    </tr>\n    <tr>\n      <td>12</td>\n      <td>13</td>\n      <td>0</td>\n      <td>3</td>\n      <td>Saundercock, Mr. William Henry</td>\n      <td>male</td>\n      <td>20.0</td>\n      <td>0</td>\n      <td>0</td>\n      <td>A/5. 2151</td>\n      <td>8.050</td>\n      <td>NaN</td>\n      <td>S</td>\n    </tr>\n    <tr>\n      <td>13</td>\n      <td>14</td>\n      <td>0</td>\n      <td>3</td>\n      <td>Andersson, Mr. Anders Johan</td>\n      <td>male</td>\n      <td>39.0</td>\n      <td>1</td>\n      <td>5</td>\n      <td>347082</td>\n      <td>31.275</td>\n      <td>NaN</td>\n      <td>S</td>\n    </tr>\n  </tbody>\n</table>\n</div>",
      "text/plain": "    PassengerId  Survived  Pclass                            Name   Sex   Age  \\\n0             1         0       3         Braund, Mr. Owen Harris  male  22.0   \n4             5         0       3        Allen, Mr. William Henry  male  35.0   \n7             8         0       3  Palsson, Master. Gosta Leonard  male   2.0   \n12           13         0       3  Saundercock, Mr. William Henry  male  20.0   \n13           14         0       3     Andersson, Mr. Anders Johan  male  39.0   \n\n    SibSp  Parch     Ticket    Fare Cabin Embarked  \n0       1      0  A/5 21171   7.250   NaN        S  \n4       0      0     373450   8.050   NaN        S  \n7       3      1     349909  21.075   NaN        S  \n12      0      0  A/5. 2151   8.050   NaN        S  \n13      1      5     347082  31.275   NaN        S  "
     },
     "execution_count": 250,
     "metadata": {},
     "output_type": "execute_result"
    }
   ],
   "source": [
    "df[(df['Sex'] == 'male') & (df.Age < 40)].head(5)"
   ]
  },
  {
   "cell_type": "markdown",
   "metadata": {
    "colab_type": "text",
    "id": "gNrAR3R41PDO"
   },
   "source": [
    "Можно отсортировать этих людей по возрастанию платы за билет. Ascending в данной функции отвечает за сортировку по убыванию (False) или по возрастанию (True)."
   ]
  },
  {
   "cell_type": "code",
   "execution_count": 251,
   "metadata": {},
   "outputs": [
    {
     "data": {
      "text/html": "<div>\n<style scoped>\n    .dataframe tbody tr th:only-of-type {\n        vertical-align: middle;\n    }\n\n    .dataframe tbody tr th {\n        vertical-align: top;\n    }\n\n    .dataframe thead th {\n        text-align: right;\n    }\n</style>\n<table border=\"1\" class=\"dataframe\">\n  <thead>\n    <tr style=\"text-align: right;\">\n      <th></th>\n      <th>PassengerId</th>\n      <th>Survived</th>\n      <th>Pclass</th>\n      <th>Name</th>\n      <th>Sex</th>\n      <th>Age</th>\n      <th>SibSp</th>\n      <th>Parch</th>\n      <th>Ticket</th>\n      <th>Fare</th>\n      <th>Cabin</th>\n      <th>Embarked</th>\n    </tr>\n  </thead>\n  <tbody>\n    <tr>\n      <td>271</td>\n      <td>272</td>\n      <td>1</td>\n      <td>3</td>\n      <td>Tornquist, Mr. William Henry</td>\n      <td>male</td>\n      <td>25.0</td>\n      <td>0</td>\n      <td>0</td>\n      <td>LINE</td>\n      <td>0.0000</td>\n      <td>NaN</td>\n      <td>S</td>\n    </tr>\n    <tr>\n      <td>822</td>\n      <td>823</td>\n      <td>0</td>\n      <td>1</td>\n      <td>Reuchlin, Jonkheer. John George</td>\n      <td>male</td>\n      <td>38.0</td>\n      <td>0</td>\n      <td>0</td>\n      <td>19972</td>\n      <td>0.0000</td>\n      <td>NaN</td>\n      <td>S</td>\n    </tr>\n    <tr>\n      <td>806</td>\n      <td>807</td>\n      <td>0</td>\n      <td>1</td>\n      <td>Andrews, Mr. Thomas Jr</td>\n      <td>male</td>\n      <td>39.0</td>\n      <td>0</td>\n      <td>0</td>\n      <td>112050</td>\n      <td>0.0000</td>\n      <td>A36</td>\n      <td>S</td>\n    </tr>\n    <tr>\n      <td>179</td>\n      <td>180</td>\n      <td>0</td>\n      <td>3</td>\n      <td>Leonard, Mr. Lionel</td>\n      <td>male</td>\n      <td>36.0</td>\n      <td>0</td>\n      <td>0</td>\n      <td>LINE</td>\n      <td>0.0000</td>\n      <td>NaN</td>\n      <td>S</td>\n    </tr>\n    <tr>\n      <td>302</td>\n      <td>303</td>\n      <td>0</td>\n      <td>3</td>\n      <td>Johnson, Mr. William Cahoone Jr</td>\n      <td>male</td>\n      <td>19.0</td>\n      <td>0</td>\n      <td>0</td>\n      <td>LINE</td>\n      <td>0.0000</td>\n      <td>NaN</td>\n      <td>S</td>\n    </tr>\n    <tr>\n      <td>378</td>\n      <td>379</td>\n      <td>0</td>\n      <td>3</td>\n      <td>Betros, Mr. Tannous</td>\n      <td>male</td>\n      <td>20.0</td>\n      <td>0</td>\n      <td>0</td>\n      <td>2648</td>\n      <td>4.0125</td>\n      <td>NaN</td>\n      <td>C</td>\n    </tr>\n    <tr>\n      <td>872</td>\n      <td>873</td>\n      <td>0</td>\n      <td>1</td>\n      <td>Carlsson, Mr. Frans Olof</td>\n      <td>male</td>\n      <td>33.0</td>\n      <td>0</td>\n      <td>0</td>\n      <td>695</td>\n      <td>5.0000</td>\n      <td>B51 B53 B55</td>\n      <td>S</td>\n    </tr>\n    <tr>\n      <td>843</td>\n      <td>844</td>\n      <td>0</td>\n      <td>3</td>\n      <td>Lemberopolous, Mr. Peter L</td>\n      <td>male</td>\n      <td>34.5</td>\n      <td>0</td>\n      <td>0</td>\n      <td>2683</td>\n      <td>6.4375</td>\n      <td>NaN</td>\n      <td>C</td>\n    </tr>\n    <tr>\n      <td>371</td>\n      <td>372</td>\n      <td>0</td>\n      <td>3</td>\n      <td>Wiklund, Mr. Jakob Alfred</td>\n      <td>male</td>\n      <td>18.0</td>\n      <td>1</td>\n      <td>0</td>\n      <td>3101267</td>\n      <td>6.4958</td>\n      <td>NaN</td>\n      <td>S</td>\n    </tr>\n    <tr>\n      <td>202</td>\n      <td>203</td>\n      <td>0</td>\n      <td>3</td>\n      <td>Johanson, Mr. Jakob Alfred</td>\n      <td>male</td>\n      <td>34.0</td>\n      <td>0</td>\n      <td>0</td>\n      <td>3101264</td>\n      <td>6.4958</td>\n      <td>NaN</td>\n      <td>S</td>\n    </tr>\n  </tbody>\n</table>\n</div>",
      "text/plain": "     PassengerId  Survived  Pclass                             Name   Sex  \\\n271          272         1       3     Tornquist, Mr. William Henry  male   \n822          823         0       1  Reuchlin, Jonkheer. John George  male   \n806          807         0       1           Andrews, Mr. Thomas Jr  male   \n179          180         0       3              Leonard, Mr. Lionel  male   \n302          303         0       3  Johnson, Mr. William Cahoone Jr  male   \n378          379         0       3              Betros, Mr. Tannous  male   \n872          873         0       1         Carlsson, Mr. Frans Olof  male   \n843          844         0       3       Lemberopolous, Mr. Peter L  male   \n371          372         0       3        Wiklund, Mr. Jakob Alfred  male   \n202          203         0       3       Johanson, Mr. Jakob Alfred  male   \n\n      Age  SibSp  Parch   Ticket    Fare        Cabin Embarked  \n271  25.0      0      0     LINE  0.0000          NaN        S  \n822  38.0      0      0    19972  0.0000          NaN        S  \n806  39.0      0      0   112050  0.0000          A36        S  \n179  36.0      0      0     LINE  0.0000          NaN        S  \n302  19.0      0      0     LINE  0.0000          NaN        S  \n378  20.0      0      0     2648  4.0125          NaN        C  \n872  33.0      0      0      695  5.0000  B51 B53 B55        S  \n843  34.5      0      0     2683  6.4375          NaN        C  \n371  18.0      1      0  3101267  6.4958          NaN        S  \n202  34.0      0      0  3101264  6.4958          NaN        S  "
     },
     "execution_count": 251,
     "metadata": {},
     "output_type": "execute_result"
    }
   ],
   "source": [
    "df[(df['Sex'] == 'male') & (df.Age < 40)].sort_values(by='Fare',ascending=True).head(10)"
   ]
  },
  {
   "cell_type": "markdown",
   "metadata": {
    "colab_type": "text",
    "id": "oBO-Nhzh2cvL"
   },
   "source": [
    "Можно подсчитать количество пассажиров (а точнее их уникальных номеров) с помощью функции count()"
   ]
  },
  {
   "cell_type": "code",
   "execution_count": 252,
   "metadata": {},
   "outputs": [
    {
     "data": {
      "text/plain": "344"
     },
     "execution_count": 252,
     "metadata": {},
     "output_type": "execute_result"
    }
   ],
   "source": [
    "df[(df['Sex'] == 'male') & (df.Age < 40)].sort_values(by='Fare',ascending=True).PassengerId.count()"
   ]
  },
  {
   "cell_type": "markdown",
   "metadata": {
    "colab_type": "text",
    "id": "nIYN5Eob3yJz"
   },
   "source": [
    "Также можно быстро вывести распределение переменной Sex с помощью функции value_count()"
   ]
  },
  {
   "cell_type": "code",
   "execution_count": 253,
   "metadata": {},
   "outputs": [
    {
     "data": {
      "text/plain": "male      577\nfemale    314\nName: Sex, dtype: int64"
     },
     "execution_count": 253,
     "metadata": {},
     "output_type": "execute_result"
    }
   ],
   "source": [
    "df.Sex.value_counts()"
   ]
  },
  {
   "cell_type": "markdown",
   "metadata": {
    "colab_type": "text",
    "id": "ACGDsuGOagZt"
   },
   "source": [
    "## Задания"
   ]
  },
  {
   "cell_type": "markdown",
   "metadata": {
    "colab_type": "text",
    "id": "6juXJzCA1qFR"
   },
   "source": [
    "### 21. Сколько человек спаслись и сколько погибли?"
   ]
  },
  {
   "cell_type": "code",
   "execution_count": 261,
   "metadata": {},
   "outputs": [
    {
     "name": "stdout",
     "output_type": "stream",
     "text": "Выжило: 342\nПогибло: 549\n"
    }
   ],
   "source": [
    "print('Выжило:', df[df.Survived == 1].Survived.count())\n",
    "print('Погибло:', df[df.Survived == 0].Survived.count())"
   ]
  },
  {
   "cell_type": "markdown",
   "metadata": {
    "colab_type": "text",
    "id": "ROJJ8MSE2xdh"
   },
   "source": [
    "### 22. Выведите распределение переменной Survived отдельно для мужчин и отдельно для женщин\n"
   ]
  },
  {
   "cell_type": "code",
   "execution_count": 269,
   "metadata": {},
   "outputs": [
    {
     "name": "stdout",
     "output_type": "stream",
     "text": "Мужчины:\n 0    468\n1    109\nName: Survived, dtype: int64\n\n\nЖенщины:\n 1    233\n0     81\nName: Survived, dtype: int64\n"
    }
   ],
   "source": [
    "print('Мужчины:\\n', df[df.Sex == 'male'].Survived.value_counts())\n",
    "print('\\n')\n",
    "print('Женщины:\\n', df[df.Sex == 'female'].Survived.value_counts())"
   ]
  },
  {
   "cell_type": "markdown",
   "metadata": {
    "colab_type": "text",
    "id": "JOxfl_Rc5SPG"
   },
   "source": [
    "### 23. Каковы медиана и стандартное отклонение цен за билет?"
   ]
  },
  {
   "cell_type": "code",
   "execution_count": 275,
   "metadata": {},
   "outputs": [
    {
     "data": {
      "text/plain": "count    891.000000\nmean      32.204208\nstd       49.693429\nmin        0.000000\n25%        7.910400\n50%       14.454200\n75%       31.000000\nmax      512.329200\nName: Fare, dtype: float64"
     },
     "execution_count": 275,
     "metadata": {},
     "output_type": "execute_result"
    }
   ],
   "source": [
    "df.Fare.describe()"
   ]
  },
  {
   "cell_type": "markdown",
   "metadata": {
    "colab_type": "text",
    "id": "JMpQ54xk51wN"
   },
   "source": [
    "### 24. Подсчитайте долю выживших среди людей моложе 25 лет и старше 55."
   ]
  },
  {
   "cell_type": "code",
   "execution_count": 297,
   "metadata": {},
   "outputs": [
    {
     "name": "stdout",
     "output_type": "stream",
     "text": "0.6931216931216931\n"
    }
   ],
   "source": [
    "old_n_young = df[(df.Age < 25) | (df.Age >= 55)]\n",
    "percent = old_n_young[old_n_young.Survived == 1].PassengerId.count() / old_n_young[old_n_young.Survived == 0].PassengerId.count()\n",
    "print(percent)"
   ]
  },
  {
   "cell_type": "markdown",
   "metadata": {
    "colab_type": "text",
    "id": "c9dMqjki6tWX"
   },
   "source": [
    "### 25. Подсчитайте долю выживших среди мужчин и женщин."
   ]
  },
  {
   "cell_type": "code",
   "execution_count": 308,
   "metadata": {},
   "outputs": [
    {
     "name": "stdout",
     "output_type": "stream",
     "text": "0.18890814558058924\n0.7420382165605095\n"
    }
   ],
   "source": [
    "men = df[(df.Sex == 'male')]\n",
    "men_survived = men[(men.Survived == 1)].PassengerId.count()\n",
    "\n",
    "women = df[(df.Sex == 'female')]\n",
    "women_survived = women[(women.Survived == 1)].PassengerId.count()\n",
    "\n",
    "print(men_survived / men.PassengerId.count())\n",
    "print(women_survived / women.PassengerId.count())"
   ]
  },
  {
   "cell_type": "markdown",
   "metadata": {
    "colab_type": "text",
    "id": "d9HcyxCe8Amb"
   },
   "source": [
    "### 26. В каком городе больше всего село пассажиров?"
   ]
  },
  {
   "cell_type": "code",
   "execution_count": 315,
   "metadata": {},
   "outputs": [
    {
     "data": {
      "text/plain": "S    644\nC    168\nQ     77\nName: Embarked, dtype: int64"
     },
     "execution_count": 315,
     "metadata": {},
     "output_type": "execute_result"
    }
   ],
   "source": [
    "df.Embarked.value_counts()"
   ]
  },
  {
   "cell_type": "markdown",
   "metadata": {
    "colab_type": "text",
    "id": "r7Ev8RJWy0la"
   },
   "source": [
    "### 27. Подсчитайте средний возраст выживших"
   ]
  },
  {
   "cell_type": "code",
   "execution_count": 318,
   "metadata": {},
   "outputs": [
    {
     "data": {
      "text/plain": "28.343689655172415"
     },
     "execution_count": 318,
     "metadata": {},
     "output_type": "execute_result"
    }
   ],
   "source": [
    "df[df.Survived == 1].Age.mean()"
   ]
  },
  {
   "cell_type": "markdown",
   "metadata": {
    "colab_type": "text",
    "id": "KA326h6WzEvm"
   },
   "source": [
    "### 28. Подсчитайте средний возраст пассажиров каждого из трех классов\n"
   ]
  },
  {
   "cell_type": "code",
   "execution_count": 323,
   "metadata": {},
   "outputs": [
    {
     "name": "stdout",
     "output_type": "stream",
     "text": "38.233440860215055 29.87763005780347 25.14061971830986\n"
    }
   ],
   "source": [
    "class1 = df[df.Pclass == 1].Age.mean()\n",
    "class2 = df[df.Pclass == 2].Age.mean()\n",
    "class3 = df[df.Pclass == 3].Age.mean()\n",
    "\n",
    "print(class1, class2, class3)"
   ]
  },
  {
   "cell_type": "markdown",
   "metadata": {
    "colab_type": "text",
    "id": "XzwUK8sozykd"
   },
   "source": [
    "### 29. Подсчитайте средний возраст выживших мужчин, купивших билет во 2 класс"
   ]
  },
  {
   "cell_type": "code",
   "execution_count": 326,
   "metadata": {},
   "outputs": [
    {
     "data": {
      "text/plain": "17"
     },
     "execution_count": 326,
     "metadata": {},
     "output_type": "execute_result"
    }
   ],
   "source": [
    "df[(df.Sex == 'male') & (df.Survived == 1) & (df.Pclass == 2)].PassengerId.count()"
   ]
  },
  {
   "cell_type": "markdown",
   "metadata": {
    "colab_type": "text",
    "id": "caDgfRO1a3_j"
   },
   "source": [
    "### 30. Оцените, как влияет на выживаемость пассажиров наличие их родственников на борту."
   ]
  },
  {
   "cell_type": "code",
   "execution_count": 332,
   "metadata": {},
   "outputs": [
    {
     "name": "stdout",
     "output_type": "stream",
     "text": "1    179\n0    175\nName: Survived, dtype: int64\n\n\n0    374\n1    163\nName: Survived, dtype: int64\n"
    }
   ],
   "source": [
    "print(df[(df.SibSp > 0) | (df.Parch > 0)].Survived.value_counts())\n",
    "print('\\n')\n",
    "print(df[(df.SibSp == 0) & (df.Parch == 0)].Survived.value_counts())"
   ]
  }
 ],
 "metadata": {
  "kernelspec": {
   "display_name": "Python 3",
   "language": "python",
   "name": "python3"
  },
  "language_info": {
   "codemirror_mode": {
    "name": "ipython",
    "version": 3
   },
   "file_extension": ".py",
   "mimetype": "text/x-python",
   "name": "python",
   "nbconvert_exporter": "python",
   "pygments_lexer": "ipython3",
   "version": "3.7.4-final"
  }
 },
 "nbformat": 4,
 "nbformat_minor": 2
}