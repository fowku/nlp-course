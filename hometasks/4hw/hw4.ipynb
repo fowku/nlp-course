{
 "cells": [
  {
   "cell_type": "markdown",
   "metadata": {},
   "source": [
    "## Лабораторная работа 4: topic modeling"
   ]
  },
  {
   "cell_type": "markdown",
   "metadata": {},
   "source": [
    "В данной лабораторной работе мы попытаемся обучить LDA-модель topic-моделингу на двух принципиально различных корпусах. \n",
    "\n",
    "В первой части вы познакомитесь с новыми возможностями библиотеки gensim, а также с возможностями парсинга в языке Python. Во второй части вам предстоит самостоятельно обучить LDA-модель и оценить качество её работы."
   ]
  },
  {
   "cell_type": "markdown",
   "metadata": {},
   "source": [
    "### Часть 1: topic modeling уровня /b/"
   ]
  },
  {
   "cell_type": "markdown",
   "metadata": {},
   "source": [
    "Краеугольным камнем в машинном обучений в целом, и в NLP в частности, является выбор датасетов. Доселе мы использовали только стандартные, многократно обкатанные датасеты, но сегодня попробуем собрать свой. Практика работы с сырыми, необработанными данными весьма полезно! Заодно изучим возможности парсеров в Питоне.\n",
    "\n",
    "Давайте напишем парсер, собирающий информацию о сообщения с русскомязычного анононимного форума (имиджборды) \"Двач\" (\"Сосач\", \"Хиккач\", если вам угодно). Двач, как и всякая имиджборда разделён на разделы (доски, борды), посвященные различным тематикам -- аниме, видеоигры, литература, религия... Каждая доска состоит из тем (тредов, топиков), которые создаются анонимными (при их желании) пользователями. Каждый тред посвящен обсуждению какого-то конкретного вопроса.\n",
    "\n",
    "У некоторых разделов есть раздел архив, располагается он по адресу https://2ch.hk/(название раздела)/arch/, например для раздела музыка -- https://2ch.hk/mu/arch/. Если у вас есть минимальные навыки в языке html, а также если вы изучили документацию встроенного класса HTMLParser, то вам будет несложно написать два парсера.\n",
    "\n",
    "Первый парсер (ArchiveParser) парсит HTML-страницу архива доски, вытягивает из неё ссылки на заархивированные треды, и скармливает их второму парсеру.\n",
    "\n",
    "Второй парсер (ThreadParser) парсит HTML-страницу заархивированного треда, вытягивает из неё сообщения, складывает их вместе и собирает."
   ]
  },
  {
   "cell_type": "code",
   "execution_count": 2,
   "metadata": {},
   "outputs": [],
   "source": [
    "import time\n",
    "import urllib.request\n",
    "from html.parser import HTMLParser\n",
    "from gensim.utils import simple_preprocess\n",
    "\n",
    "def get_value_by_key(attrs, key):\n",
    "    for (k, v) in attrs:\n",
    "        if(k == key):\n",
    "            return v;\n",
    "    return None\n",
    "\n",
    "class ArchiveParser(HTMLParser):\n",
    "    flag = False\n",
    "    threads = []\n",
    "    limit = 200\n",
    "    def handle_starttag(self, tag, attrs):\n",
    "        if(self.limit > 0):\n",
    "            if(tag == 'div'):\n",
    "                cl = get_value_by_key(attrs, 'class')\n",
    "                if (cl == 'box-data'):\n",
    "                    self.flag = True;\n",
    "            if(self.flag == True and tag == 'a'):\n",
    "                href = get_value_by_key(attrs, 'href')\n",
    "                if(len(href)>20):\n",
    "                    print(href)\n",
    "                    print(self.limit)\n",
    "                    thread = parse_thread('https://2ch.hk' + href)\n",
    "                    if(len(thread) > 10):\n",
    "                        self.threads.append(thread)\n",
    "                        self.limit = self.limit - 1\n",
    "                    thread = []\n",
    "        \n",
    "\n",
    "    def handle_endtag(self, tag):\n",
    "        if(tag == 'div'):\n",
    "            self.flag = False;\n",
    "\n",
    "    def handle_data(self, data):\n",
    "        1+1\n",
    "        \n",
    "    def get_threads(self):\n",
    "        return self.threads\n",
    "    \n",
    "    def clean(self):\n",
    "        self.threads = []\n",
    "        \n",
    "parser = ArchiveParser()\n",
    "\n",
    "def parse_archive(board = '/b/', page_number = 0):\n",
    "    lines = []\n",
    "    link = 'https://2ch.hk' + board + 'arch/' + str(page_number) +'.html'\n",
    "    print(link)\n",
    "    parser.limit = 100\n",
    "    url = urllib.request.urlopen(link)\n",
    "    for line in url.readlines():\n",
    "        lines.append(line.decode('utf-8'))\n",
    "    for line in lines:\n",
    "        parser.feed(line)\n",
    "    res = parser.get_threads()\n",
    "    parser.clean()\n",
    "    return res"
   ]
  },
  {
   "cell_type": "code",
   "execution_count": 3,
   "metadata": {},
   "outputs": [],
   "source": [
    "class ThreadParser(HTMLParser):\n",
    "    flag = False\n",
    "    message = []\n",
    "    messages = []\n",
    "            \n",
    "    def handle_starttag(self, tag, attrs):\n",
    "        if(tag == 'blockquote'):\n",
    "            self.flag = True;\n",
    "            self.message = []\n",
    "        \n",
    "\n",
    "    def handle_endtag(self, tag):\n",
    "        if(tag == 'blockquote'):\n",
    "            self.flag = False\n",
    "            if(self.message != []):\n",
    "                self.messages.append(self.message)\n",
    "            self.message = []\n",
    "\n",
    "    def handle_data(self, data):\n",
    "        if(self.flag):\n",
    "            self.message.extend(simple_preprocess(data))\n",
    "            \n",
    "    def get_messages(self):\n",
    "        return self.messages\n",
    "    \n",
    "    def clear_messages(self):\n",
    "        flag = False\n",
    "        self.message = []\n",
    "        self.messages = []\n",
    "\n",
    "t_parser = ThreadParser()\n",
    "\n",
    "def parse_thread (link):\n",
    "    url = urllib.request.urlopen(link)\n",
    "    lines = []\n",
    "    for line in url.readlines():\n",
    "        lines.append(line.decode('utf-8', errors='ignore'))\n",
    "    for line in lines:\n",
    "        t_parser.feed(line)\n",
    "    res = t_parser.get_messages()\n",
    "    t_parser.clear_messages()\n",
    "    #print(res)\n",
    "    return res"
   ]
  },
  {
   "cell_type": "markdown",
   "metadata": {},
   "source": [
    "Весьма много кода, верно? Если не потерялись, могли заметить функцию parse_archive, которая парсит страницу архива по доске и номеру страницы.\n"
   ]
  },
  {
   "cell_type": "markdown",
   "metadata": {},
   "source": [
    "$\\textbf{Задание.}$\n",
    "Давайте применим её к каким-нибудь доскам. Выберите две доски двача, имеющие архив и скачайте архивы функцией parse_archive."
   ]
  },
  {
   "cell_type": "code",
   "execution_count": 4,
   "metadata": {},
   "outputs": [
    {
     "output_type": "stream",
     "name": "stdout",
     "text": "https://2ch.hk/pr/arch/0.html\n/pr/arch/2016-05-04/res/708924.html\n100\n/pr/arch/2016-05-03/res/708740.html\n100\n/pr/arch/2016-05-11/res/708703.html\n100\n/pr/arch/2016-05-03/res/708541.html\n99\n/pr/arch/2016-05-02/res/708338.html\n99\n/pr/arch/2016-05-02/res/708024.html\n99\n/pr/arch/2016-05-02/res/708023.html\n99\n/pr/arch/2016-05-02/res/708010.html\n99\n/pr/arch/2016-05-09/res/707960.html\n98\n/pr/arch/2016-05-12/res/707882.html\n97\n/pr/arch/2016-05-03/res/707795.html\n96\n/pr/arch/2016-05-04/res/707611.html\n95\n/pr/arch/2016-05-11/res/707568.html\n94\n/pr/arch/2016-05-02/res/707426.html\n93\n/pr/arch/2016-06-08/res/707395.html\n92\n/pr/arch/2016-05-01/res/707282.html\n91\n/pr/arch/2016-05-11/res/707083.html\n91\n/pr/arch/2016-05-02/res/707079.html\n90\n/pr/arch/2016-05-01/res/707032.html\n89\n/pr/arch/2016-04-30/res/707031.html\n89\n/pr/arch/2016-05-01/res/706875.html\n89\n/pr/arch/2016-05-07/res/706843.html\n88\n/pr/arch/2016-05-02/res/706697.html\n87\n/pr/arch/2016-04-29/res/706407.html\n87\n/pr/arch/2016-07-26/res/706304.html\n87\n/pr/arch/2016-04-29/res/706251.html\n86\n/pr/arch/2016-05-05/res/705863.html\n86\n/pr/arch/2016-05-07/res/705826.html\n85\n/pr/arch/2016-05-04/res/705586.html\n84\n/pr/arch/2016-07-24/res/705167.html\n83\n/pr/arch/2016-05-01/res/704977.html\n82\n/pr/arch/2016-04-29/res/704949.html\n81\n/pr/arch/2016-04-30/res/704930.html\n80\n/pr/arch/2016-05-04/res/704664.html\n80\n/pr/arch/2016-04-30/res/704598.html\n79\n/pr/arch/2016-05-20/res/704545.html\n79\n/pr/arch/2016-05-04/res/704490.html\n78\n/pr/arch/2016-04-28/res/704328.html\n77\n/pr/arch/2016-04-27/res/704132.html\n77\n/pr/arch/2016-05-27/res/704120.html\n77\n/pr/arch/2016-05-10/res/704022.html\n76\n/pr/arch/2016-05-03/res/703923.html\n75\n/pr/arch/2016-05-17/res/703890.html\n74\n/pr/arch/2016-04-27/res/703877.html\n73\n/pr/arch/2016-05-12/res/703806.html\n73\n/pr/arch/2016-04-28/res/703767.html\n72\n/pr/arch/2016-05-04/res/703542.html\n71\n/pr/arch/2016-04-29/res/703462.html\n70\n/pr/arch/2016-04-26/res/703430.html\n69\n/pr/arch/2016-04-26/res/703135.html\n69\n/pr/arch/2016-05-04/res/702800.html\n68\n/pr/arch/2016-04-25/res/702701.html\n67\n/pr/arch/2016-04-30/res/702133.html\n66\n/pr/arch/2016-05-27/res/702072.html\n65\n/pr/arch/2016-04-25/res/701775.html\n64\n/pr/arch/2016-04-28/res/701733.html\n64\n/pr/arch/2016-04-25/res/701678.html\n63\n/pr/arch/2016-04-29/res/701538.html\n63\n/pr/arch/2016-04-25/res/701368.html\n62\n/pr/arch/2016-04-25/res/701169.html\n62\n/pr/arch/2016-04-25/res/701150.html\n62\n/pr/arch/2016-04-25/res/701039.html\n61\n/pr/arch/2016-04-25/res/701033.html\n60\n/pr/arch/2016-04-29/res/700777.html\n59\n/pr/arch/2016-03-27/res/700597.html\n58\n/pr/arch/2016-03-27/res/700370.html\n58\n/pr/arch/2016-04-26/res/700286.html\n58\n/pr/arch/2016-03-27/res/700147.html\n57\n/pr/arch/2016-04-25/res/699912.html\n57\n/pr/arch/2016-03-27/res/699896.html\n56\n/pr/arch/2016-03-27/res/699877.html\n56\n/pr/arch/2016-03-27/res/699653.html\n56\n/pr/arch/2016-03-27/res/699617.html\n56\n/pr/arch/2016-04-25/res/699344.html\n55\n/pr/arch/2016-03-26/res/699281.html\n55\n/pr/arch/2016-05-20/res/699142.html\n55\n/pr/arch/2016-03-26/res/699001.html\n54\n/pr/arch/2016-04-25/res/698817.html\n53\n/pr/arch/2016-04-26/res/698574.html\n53\n/pr/arch/2016-03-26/res/698357.html\n52\n/pr/arch/2016-03-25/res/698287.html\n51\n/pr/arch/2016-12-07/res/697835.html\n51\n/pr/arch/2016-03-25/res/697594.html\n50\n/pr/arch/2016-03-25/res/697592.html\n50\n/pr/arch/2016-03-25/res/697496.html\n49\n/pr/arch/2016-03-24/res/697381.html\n49\n/pr/arch/2016-03-24/res/697101.html\n49\n/pr/arch/2016-03-24/res/696877.html\n48\n/pr/arch/2016-03-24/res/696858.html\n47\n/pr/arch/2016-03-23/res/696620.html\n47\n/pr/arch/2016-04-24/res/696401.html\n46\n/pr/arch/2016-03-23/res/696137.html\n45\n/pr/arch/2016-03-23/res/696032.html\n45\n/pr/arch/2016-03-22/res/695576.html\n44\n/pr/arch/2016-03-22/res/695498.html\n43\n/pr/arch/2016-03-22/res/695260.html\n43\n/pr/arch/2016-05-01/res/694892.html\n43\n/pr/arch/2016-03-21/res/694678.html\n42\n/pr/arch/2016-03-21/res/694267.html\n41\n/pr/arch/2016-07-25/res/694248.html\n41\n/pr/arch/2016-03-21/res/694162.html\n40\n/pr/arch/2016-03-21/res/694033.html\n40\n/pr/arch/2016-04-27/res/693879.html\n39\n/pr/arch/2016-03-20/res/693723.html\n38\n/pr/arch/2016-03-20/res/693700.html\n37\n/pr/arch/2016-03-20/res/693550.html\n37\n/pr/arch/2016-03-20/res/693167.html\n37\n/pr/arch/2016-04-27/res/693065.html\n36\n/pr/arch/2016-04-25/res/692721.html\n35\n/pr/arch/2016-06-11/res/692538.html\n34\n/pr/arch/2016-03-19/res/692400.html\n33\n/pr/arch/2016-03-19/res/692136.html\n32\n/pr/arch/2016-03-18/res/692090.html\n31\n/pr/arch/2016-06-09/res/691428.html\n30\n/pr/arch/2016-05-04/res/690877.html\n29\n/pr/arch/2016-03-16/res/690281.html\n28\n/pr/arch/2016-03-16/res/690259.html\n27\n/pr/arch/2016-03-16/res/690217.html\n26\n/pr/arch/2016-04-27/res/689843.html\n26\n/pr/arch/2016-03-16/res/689676.html\n25\n/pr/arch/2016-03-16/res/689537.html\n25\n/pr/arch/2016-03-16/res/689508.html\n24\n/pr/arch/2016-03-15/res/689273.html\n24\n/pr/arch/2016-03-15/res/689244.html\n24\n/pr/arch/2016-03-15/res/689205.html\n24\n/pr/arch/2016-03-15/res/689040.html\n24\n/pr/arch/2016-03-15/res/688646.html\n24\n/pr/arch/2016-03-15/res/688633.html\n23\n/pr/arch/2016-03-15/res/688615.html\n22\n/pr/arch/2016-03-15/res/688544.html\n22\n/pr/arch/2016-03-15/res/688521.html\n22\n/pr/arch/2016-03-14/res/688279.html\n21\n/pr/arch/2016-03-14/res/688223.html\n21\n/pr/arch/2016-03-14/res/688036.html\n21\n/pr/arch/2016-03-14/res/688009.html\n21\n/pr/arch/2016-03-14/res/687853.html\n21\n/pr/arch/2016-03-14/res/687803.html\n20\n/pr/arch/2016-03-14/res/687571.html\n19\n/pr/arch/2016-03-14/res/687417.html\n18\n/pr/arch/2016-03-14/res/687393.html\n17\n/pr/arch/2016-06-14/res/687373.html\n16\n/pr/arch/2016-03-14/res/687347.html\n15\n/pr/arch/2016-03-14/res/687286.html\n15\n/pr/arch/2016-03-14/res/687254.html\n15\n/pr/arch/2016-03-14/res/687176.html\n14\n/pr/arch/2016-03-13/res/686206.html\n14\n/pr/arch/2016-05-11/res/685932.html\n14\n/pr/arch/2016-03-12/res/685658.html\n13\n/pr/arch/2016-03-12/res/685522.html\n12\n/pr/arch/2016-05-17/res/685455.html\n12\n/pr/arch/2016-03-12/res/685377.html\n11\n/pr/arch/2016-03-12/res/685345.html\n11\n/pr/arch/2016-03-12/res/685131.html\n10\n/pr/arch/2016-03-12/res/684951.html\n10\n/pr/arch/2016-03-12/res/684627.html\n9\n/pr/arch/2016-03-12/res/684577.html\n9\n/pr/arch/2016-03-11/res/684460.html\n9\n/pr/arch/2016-04-29/res/684115.html\n8\n/pr/arch/2016-03-11/res/684056.html\n7\n/pr/arch/2016-03-11/res/684010.html\n6\n/pr/arch/2016-03-11/res/683899.html\n5\n/pr/arch/2016-03-11/res/683894.html\n4\n/pr/arch/2016-03-11/res/683861.html\n4\n/pr/arch/2016-03-11/res/683589.html\n4\n/pr/arch/2016-05-17/res/683573.html\n4\n/pr/arch/2016-03-10/res/683079.html\n3\n/pr/arch/2016-03-10/res/683012.html\n3\n/pr/arch/2016-03-10/res/682755.html\n3\n/pr/arch/2016-03-10/res/682716.html\n3\n/pr/arch/2016-03-10/res/682578.html\n3\n/pr/arch/2016-03-10/res/682494.html\n2\n/pr/arch/2016-03-10/res/682165.html\n1\n/pr/arch/2016-03-10/res/682072.html\n1\nhttps://2ch.hk/mus/arch/0.html\n/mus/arch/2017-01-11/res/382867.html\n100\n/mus/arch/2017-01-11/res/382478.html\n99\n/mus/arch/2017-01-03/res/382433.html\n98\n/mus/arch/2017-03-26/res/382209.html\n97\n/mus/arch/2016-12-26/res/382043.html\n96\n/mus/arch/2017-02-07/res/380747.html\n95\n/mus/arch/2017-03-03/res/380576.html\n94\n/mus/arch/2017-01-02/res/380400.html\n93\n/mus/arch/2016-12-20/res/380044.html\n92\n/mus/arch/2016-12-26/res/378275.html\n91\n/mus/arch/2017-01-26/res/378238.html\n90\n/mus/arch/2017-04-04/res/378104.html\n89\n/mus/arch/2017-02-10/res/377538.html\n88\n/mus/arch/2016-12-19/res/377421.html\n87\n/mus/arch/2017-01-05/res/377392.html\n86\n/mus/arch/2017-01-20/res/376668.html\n85\n/mus/arch/2017-01-18/res/376383.html\n84\n/mus/arch/2016-12-26/res/375770.html\n83\n/mus/arch/2016-12-15/res/375748.html\n82\n/mus/arch/2016-12-18/res/374578.html\n82\n/mus/arch/2016-12-15/res/372949.html\n81\n/mus/arch/2016-12-19/res/372836.html\n80\n/mus/arch/2016-12-19/res/372137.html\n79\n/mus/arch/2016-12-14/res/372096.html\n78\n/mus/arch/2016-12-14/res/372078.html\n77\n/mus/arch/2016-12-26/res/370942.html\n76\n/mus/arch/2017-02-19/res/370903.html\n75\n/mus/arch/2016-12-14/res/370717.html\n74\n/mus/arch/2016-10-19/res/369983.html\n73\n/mus/arch/2016-10-19/res/369816.html\n73\n/mus/arch/2016-10-19/res/369790.html\n73\n/mus/arch/2017-03-26/res/369587.html\n73\n/mus/arch/2016-10-17/res/369485.html\n72\n/mus/arch/2016-10-19/res/369302.html\n71\n/mus/arch/2016-10-17/res/369267.html\n71\n/mus/arch/2017-01-09/res/369116.html\n71\n/mus/arch/2017-01-11/res/369024.html\n71\n/mus/arch/2016-12-14/res/368571.html\n70\n/mus/arch/2016-10-16/res/368480.html\n69\n/mus/arch/2016-10-13/res/368375.html\n69\n/mus/arch/2016-10-15/res/368215.html\n69\n/mus/arch/2017-01-11/res/368059.html\n69\n/mus/arch/2016-12-13/res/368054.html\n68\n/mus/arch/2016-12-19/res/367932.html\n67\n/mus/arch/2016-10-13/res/367872.html\n66\n/mus/arch/2016-10-13/res/366955.html\n66\n/mus/arch/2016-10-10/res/366621.html\n66\n/mus/arch/2016-12-11/res/366547.html\n66\n/mus/arch/2016-10-17/res/366174.html\n65\n/mus/arch/2017-10-23/res/366164.html\n64\n/mus/arch/2016-12-11/res/365820.html\n63\n/mus/arch/2016-12-16/res/365658.html\n62\n/mus/arch/2016-10-07/res/365357.html\n61\n/mus/arch/2017-01-17/res/364675.html\n61\n/mus/arch/2016-12-12/res/364588.html\n60\n/mus/arch/2016-12-19/res/364241.html\n59\n/mus/arch/2017-01-10/res/364009.html\n58\n/mus/arch/2016-10-10/res/363163.html\n57\n/mus/arch/2016-09-28/res/362537.html\n56\n/mus/arch/2016-10-09/res/361818.html\n56\n/mus/arch/2017-05-10/res/360790.html\n55\n/mus/arch/2016-09-24/res/360747.html\n54\n/mus/arch/2017-01-21/res/360175.html\n53\n/mus/arch/2016-09-25/res/359709.html\n52\n/mus/arch/2016-09-21/res/359607.html\n51\n/mus/arch/2016-09-20/res/359342.html\n51\n/mus/arch/2016-09-25/res/359155.html\n51\n/mus/arch/2016-09-20/res/359019.html\n50\n/mus/arch/2016-10-09/res/358597.html\n49\n/mus/arch/2016-12-19/res/358442.html\n48\n/mus/arch/2016-09-20/res/357349.html\n47\n/mus/arch/2016-12-19/res/356509.html\n46\n/mus/arch/2016-09-23/res/356426.html\n45\n/mus/arch/2017-08-18/res/356351.html\n44\n/mus/arch/2016-09-20/res/356220.html\n43\n/mus/arch/2016-09-12/res/356108.html\n43\n/mus/arch/2016-09-12/res/356101.html\n43\n/mus/arch/2016-09-28/res/355720.html\n43\n/mus/arch/2016-09-10/res/355705.html\n42\n/mus/arch/2016-10-17/res/355538.html\n41\n/mus/arch/2016-12-31/res/355162.html\n40\n/mus/arch/2016-09-07/res/355097.html\n39\n/mus/arch/2016-09-19/res/354804.html\n39\n/mus/arch/2016-09-07/res/354712.html\n38\n/mus/arch/2017-12-24/res/354211.html\n38\n/mus/arch/2016-09-07/res/353997.html\n37\n/mus/arch/2016-09-04/res/353761.html\n36\n/mus/arch/2016-09-04/res/353740.html\n35\n/mus/arch/2016-09-18/res/352645.html\n35\n/mus/arch/2016-08-31/res/352606.html\n34\n/mus/arch/2016-08-31/res/352413.html\n33\n/mus/arch/2016-08-30/res/352407.html\n32\n/mus/arch/2016-09-07/res/352225.html\n32\n/mus/arch/2016-09-14/res/352177.html\n31\n/mus/arch/2016-09-21/res/351884.html\n30\n/mus/arch/2016-09-06/res/351706.html\n29\n/mus/arch/2016-08-26/res/351591.html\n28\n/mus/arch/2016-10-07/res/351587.html\n27\n/mus/arch/2016-08-25/res/351585.html\n26\n/mus/arch/2016-08-24/res/351273.html\n26\n/mus/arch/2017-03-23/res/351135.html\n26\n/mus/arch/2016-09-05/res/351097.html\n25\n/mus/arch/2016-09-04/res/350834.html\n25\n/mus/arch/2016-08-19/res/350696.html\n25\n/mus/arch/2016-08-17/res/349373.html\n25\n/mus/arch/2016-08-16/res/348919.html\n25\n/mus/arch/2016-08-16/res/348860.html\n25\n/mus/arch/2016-08-15/res/348723.html\n24\n/mus/arch/2016-08-28/res/348528.html\n24\n/mus/arch/2016-08-31/res/348462.html\n23\n/mus/arch/2016-08-16/res/348076.html\n22\n/mus/arch/2016-08-25/res/347845.html\n22\n/mus/arch/2016-08-10/res/346994.html\n21\n/mus/arch/2016-08-10/res/346648.html\n21\n/mus/arch/2016-12-17/res/346576.html\n21\n/mus/arch/2016-08-18/res/346569.html\n20\n/mus/arch/2017-01-15/res/346404.html\n19\n/mus/arch/2016-08-09/res/346376.html\n18\n/mus/arch/2016-08-08/res/346097.html\n18\n/mus/arch/2017-02-01/res/345806.html\n18\n/mus/arch/2016-08-15/res/345613.html\n17\n/mus/arch/2017-02-05/res/345528.html\n16\n/mus/arch/2016-08-11/res/345106.html\n15\n/mus/arch/2016-08-06/res/344805.html\n14\n/mus/arch/2016-08-07/res/344789.html\n14\n/mus/arch/2016-12-19/res/344749.html\n14\n/mus/arch/2016-09-03/res/344622.html\n13\n/mus/arch/2016-08-06/res/344616.html\n12\n/mus/arch/2016-08-07/res/344584.html\n12\n/mus/arch/2016-08-31/res/343535.html\n12\n/mus/arch/2016-09-09/res/343261.html\n11\n/mus/arch/2016-10-10/res/343026.html\n10\n/mus/arch/2016-08-05/res/342937.html\n9\n/mus/arch/2016-08-04/res/342836.html\n8\n/mus/arch/2016-08-04/res/342558.html\n8\n/mus/arch/2016-09-18/res/342363.html\n7\n/mus/arch/2016-08-07/res/342064.html\n6\n/mus/arch/2016-08-11/res/341937.html\n5\n/mus/arch/2016-08-06/res/341924.html\n4\n/mus/arch/2016-07-31/res/341883.html\n3\n/mus/arch/2016-07-31/res/341737.html\n3\n/mus/arch/2016-07-27/res/339956.html\n3\n/mus/arch/2020-04-04/res/339867.html\n3\n/mus/arch/2016-07-27/res/339839.html\n3\n/mus/arch/2016-07-30/res/339687.html\n3\n/mus/arch/2017-01-11/res/339614.html\n2\n/mus/arch/2016-08-01/res/338881.html\n1\n"
    }
   ],
   "source": [
    "boards = ['/pr/', '/mus/'] #TODO: напишите название досок в формате /'доска'/, например /mu/ для Музыки\n",
    "threads_by_topic = [parse_archive(board=board) for board in boards]"
   ]
  },
  {
   "cell_type": "markdown",
   "metadata": {},
   "source": [
    "Разделим наши данные на тренировочые и тестовые. Пусть каждый десятый тред попадает в тест-сет."
   ]
  },
  {
   "cell_type": "code",
   "execution_count": 113,
   "metadata": {},
   "outputs": [],
   "source": [
    "data = []\n",
    "test = []\n",
    "\n",
    "it = 0\n",
    "for topic in threads_by_topic:\n",
    "    for thread in topic:\n",
    "        full = []\n",
    "        for post in thread:\n",
    "            full.extend(post)\n",
    "        it = it + 1\n",
    "        if(it % 10 == 0):\n",
    "            test.append(full)\n",
    "        else:\n",
    "            data.append(full)"
   ]
  },
  {
   "cell_type": "markdown",
   "metadata": {},
   "source": [
    "$\\textbf{Задание.}$\n",
    "В русском языке есть множество слов (частицы, междометия, всё что вы хотите), которые никак не отображают смысл слов и являются вспомогательными. Чтобы ваша модель работала лучше -- добавьте стоп-слова в список RUSSIAN_STOP_WORDS или в строку st_str. Эти слова отфильтруются из датасета перед тем, как модель начнет обучаться на датасете."
   ]
  },
  {
   "cell_type": "code",
   "execution_count": 90,
   "metadata": {},
   "outputs": [],
   "source": [
    "from gensim.utils import simple_preprocess\n",
    "from gensim import corpora\n",
    "\n",
    "RUSSIAN_STOP_WORDS = ['не', 'это', 'что','чем','это','как','https','нет','op','он','же','так','но','да','нет','или','и', 'на', \"то\", \"бы\", \"все\", \"ты\", \"если\", \"по\", \"за\", \"там\", \"ну\", \"уже\", \"от\", \"есть\",\"был\", \"даже\", \"было\", \"www\", \"com\", \"youtube\", \"из\", \"будет\", \"mp\", \"они\", \"только\", \"его\", \"она\", \"вот\", 'просто', 'watch', 'кто', 'для', 'когда', 'тут', 'мне', 'где', 'мы', 'какой', 'может', 'меня', 'до', 'про', 'http', 'раз', 'почему', 'тебя', 'ещё', 'их', 'сейчас', 'тоже', 'во', 'чтобы', 'этого','без', 'него','вы','такой', 'можно', 'надо', 'нахуй', 'ли', 'потом', 'тред', 'больше', 'лучше', 'хуй', 'сам', 'после', 'со', 'лол', 'быть', 'нужно', 'этом', 'блять', 'бля', 'того', 'ничего', 'потому', 'нибудь', 'этот', 'под', 'через', 'ни', 'себе', 'ему', 'при', 'какие', 'пиздец', 'теперь', 'хоть', 'говно', 'тогда', 'блядь', 'кстати', 'че', 'себя', 'конечно', 'типа', 'много', 'том', 'нихуя', 'куда', 'всегда', 'нас', 'тот', 'ведь', 'эти', 'них', 'сука', 'пока', 'более', 'чего', 'html', 'были', 'всех', 'была', 'например', 'тем', 'ru', 'зачем', 'либо', 'вроде', 'всего', 'вопрос', 'php', 'против', 'здесь', 'ее', 'значит', 'совсем', 'сколько', 'им', 'org', 'именно', 'эту', 'делать', 'сделать', 'стоит', 'могу', 'хочу', 'спасибо', 'знаю', 'можешь']\n",
    "st_str = \"которых которые твой которой которого сих ком свой твоя этими слишком нами всему будь саму чаще ваше сами наш затем еще самих наши ту каждое мочь весь этим наша своих оба который зато те этих вся ваш такая теми ею которая нередко каждая также чему собой самими нем вами ими откуда такие тому та очень сама нему алло оно этому кому тобой таки твоё каждые твои мой нею самим ваши ваша кем мои однако сразу свое ними всё неё тех хотя всем тобою тебе одной другие этао само эта буду самой моё своей такое всею будут своего кого свои мог нам особенно её самому наше кроме вообще вон мною никто это\"\n",
    "RUSSIAN_STOP_WORDS.extend(st_str.split(' '))\n",
    "\n",
    "data = [list(filter(lambda word: not word in RUSSIAN_STOP_WORDS, piece)) for piece in data]\n",
    "id2word = corpora.Dictionary(data)"
   ]
  },
  {
   "cell_type": "markdown",
   "metadata": {},
   "source": [
    "Создадим словарь и на его основе преобразуем слова в их id."
   ]
  },
  {
   "cell_type": "code",
   "execution_count": 91,
   "metadata": {},
   "outputs": [],
   "source": [
    "id2word = corpora.Dictionary(data)\n",
    "\n",
    "# Create Corpus\n",
    "texts = data\n",
    "\n",
    "# Term Document Frequency\n",
    "corpus = [id2word.doc2bow(text) for text in texts]"
   ]
  },
  {
   "cell_type": "markdown",
   "metadata": {},
   "source": [
    "Обучим LDA-модель, используя библиотеку gensim. Зададим число тем равно числу скачанных досок."
   ]
  },
  {
   "cell_type": "code",
   "execution_count": 92,
   "metadata": {},
   "outputs": [],
   "source": [
    "from gensim.models import LdaModel\n",
    "\n",
    "model = LdaModel(corpus, id2word=id2word, num_topics=len(threads_by_topic))"
   ]
  },
  {
   "cell_type": "markdown",
   "metadata": {},
   "source": [
    "Теперь получим топ-10 самых используемых в каждой теме слов.\n",
    "\n",
    "$\\textbf{Задание.}$\n",
    "Оцените насколько хорошо модель разделила темы."
   ]
  },
  {
   "cell_type": "code",
   "execution_count": 93,
   "metadata": {},
   "outputs": [
    {
     "output_type": "stream",
     "name": "stdout",
     "text": "['один', 'играть', 'звук', 'время', 'писать', 'it', 'понял', 'лет', 'код', 'работает']\n['играть', 'звук', 'один', 'анон', 'время', 'код', 'равно', 'звучит', 'понял', 'it']\n"
    }
   ],
   "source": [
    "for i in range(len(threads_by_topic)):\n",
    "    print([id2word[id[0]] for id in model.get_topic_terms(topicid = i, topn = 10)])"
   ]
  },
  {
   "cell_type": "markdown",
   "metadata": {},
   "source": [
    "На мой взгляд, получилось не очень. Все перемешалось."
   ]
  },
  {
   "cell_type": "markdown",
   "metadata": {},
   "source": [
    "Теперь прогоним тестовые треды на модели. Тестовый датасет разделен на n равных частей по 20 тредов, i-ая соответствует i-й доске."
   ]
  },
  {
   "cell_type": "code",
   "execution_count": 94,
   "metadata": {
    "tags": [
     "outputPrepend"
    ]
   },
   "outputs": [
    {
     "output_type": "stream",
     "name": "stdout",
     "text": "[(0, 0.83836347), (1, 0.16163658)]\n"
    }
   ],
   "source": [
    "other_corpus = [id2word.doc2bow(text) for text in [list(filter(lambda word: not word in RUSSIAN_STOP_WORDS, piece)) for piece in test]]\n",
    "\n",
    "vector = [model[unseen_doc] for unseen_doc in other_corpus]\n",
    "print(vector[0]) #вероятности принадлежности 0-го тестового треда в ту или иную тему"
   ]
  },
  {
   "cell_type": "code",
   "execution_count": 95,
   "metadata": {},
   "outputs": [
    {
     "output_type": "stream",
     "name": "stdout",
     "text": "Text #0, topic #0, prob = 0.83836347\nText #1, topic #0, prob = 0.8183342\nText #2, topic #0, prob = 0.8913399\nText #3, topic #0, prob = 0.74592173\nText #4, topic #0, prob = 0.8317572\nText #5, topic #0, prob = 0.7202715\nText #6, topic #0, prob = 0.59941894\nText #7, topic #0, prob = 0.62145555\nText #8, topic #0, prob = 0.8689005\nText #9, topic #0, prob = 0.8233881\nText #10, topic #0, prob = 0.80115616\nText #11, topic #0, prob = 0.59158224\nText #12, topic #1, prob = 0.7325945\nText #13, topic #0, prob = 0.5748442\nText #14, topic #1, prob = 0.76932573\nText #15, topic #1, prob = 0.5944841\nText #16, topic #0, prob = 0.80827755\nText #17, topic #0, prob = 0.687083\nText #18, topic #1, prob = 0.7352673\nText #19, topic #1, prob = 0.8026252\n"
    }
   ],
   "source": [
    "i = 0\n",
    "\n",
    "for res in vector:\n",
    "    max_it = 0\n",
    "    if(len(res) > 0):\n",
    "        for it in range(1, len(res)):\n",
    "            if(res[max_it][1] < res[it][1]):\n",
    "                max_it = it\n",
    "        print(\"Text #\" + str(i) + \", topic #\" + str(max_it) + str(\", prob = \" + str(res[max_it][1])))\n",
    "    i = i + 1"
   ]
  },
  {
   "cell_type": "markdown",
   "metadata": {},
   "source": [
    "$\\textbf{Задание.}$\n",
    "\n",
    "Оцените результаты работы модели на тест сете. Если модель разделили данные плохо -- объясните, почему?"
   ]
  },
  {
   "cell_type": "markdown",
   "metadata": {},
   "source": [
    "Не очень, много перепутал и отнес треды из музыкального треда в программирование. Возможно из-за большого количества одинакового лексикона и схожей направленности тредов – как научиться (играть на инструменте или как научиться програть на каком-либо языке). "
   ]
  },
  {
   "cell_type": "code",
   "execution_count": null,
   "metadata": {},
   "outputs": [],
   "source": [
    "Если прикинуть, что на этих ресурсах сидят в основном \"вкатывальщики\", то понятно почему. Видимо, и там и там похожие посты в стиле \"хочу научиться\", \"хочу стать\" и т.д. И в принципе из-за специфичности языка, на котором там общаются."
   ]
  },
  {
   "cell_type": "markdown",
   "metadata": {},
   "source": [
    "## Часть 2. А теперь нормальный датасет."
   ]
  },
  {
   "cell_type": "markdown",
   "metadata": {},
   "source": [
    "А теперь давайте воспользуемся более стандартным датасетом библиотеки sklreatn -- 20newsgroups, посвященную статьям на различные темы. Выберем 6 (7) -- Атеизм, яблочное железо, автомобили, хоккей, космос, христианство, ближний восток."
   ]
  },
  {
   "cell_type": "code",
   "execution_count": 37,
   "metadata": {},
   "outputs": [],
   "source": [
    "from sklearn.datasets import fetch_20newsgroups\n",
    "categories = ['alt.atheism',\n",
    " 'comp.sys.mac.hardware',\n",
    " 'rec.autos',\n",
    " 'rec.sport.hockey',\n",
    " 'sci.space',\n",
    " 'soc.religion.christian',\n",
    " 'talk.politics.mideast']\n",
    "newsgroups_train = fetch_20newsgroups(subset='train', remove=('headers', 'footers', 'quotes'), categories = categories)"
   ]
  },
  {
   "cell_type": "markdown",
   "metadata": {},
   "source": [
    "$\\textbf{Задание}$\n",
    "\n",
    "Найдите библиотечный или опишите свой список ENGLISH_STOP_WORDS, убирающий не несущие никакого смысла английские слова."
   ]
  },
  {
   "cell_type": "code",
   "execution_count": 38,
   "metadata": {},
   "outputs": [
    {
     "output_type": "stream",
     "name": "stdout",
     "text": "True\n"
    }
   ],
   "source": [
    "from gensim.utils import simple_preprocess\n",
    "from gensim import corpora\n",
    "\n",
    "ENGLISH_STOP_WORDS = [\"i\", \"me\", \"my\", \"myself\", \"we\", \"our\", \"ours\", \"ourselves\", \"you\", \"your\", \"yours\", \"yourself\", \"yourselves\", \"he\", \"him\", \"his\", \"himself\", \"she\", \"her\", \"hers\", \"herself\", \"it\", \"its\", \"itself\", \"they\", \"them\", \"their\", \"theirs\", \"themselves\", \"what\", \"which\", \"who\", \"whom\", \"this\", \"that\", \"these\", \"those\", \"am\", \"is\", \"are\", \"was\", \"were\", \"be\", \"been\", \"being\", \"have\", \"has\", \"had\", \"having\", \"do\", \"does\", \"did\", \"doing\", \"a\", \"an\", \"the\", \"and\", \"but\", \"if\", \"or\", \"because\", \"as\", \"until\", \"while\", \"of\", \"at\", \"by\", \"for\", \"with\", \"about\", \"against\", \"between\", \"into\", \"through\", \"during\", \"before\", \"after\", \"above\", \"below\", \"to\", \"from\", \"up\", \"down\", \"in\", \"out\", \"on\", \"off\", \"over\", \"under\", \"again\", \"further\", \"then\", \"once\", \"here\", \"there\", \"when\", \"where\", \"why\", \"how\", \"all\", \"any\", \"both\", \"each\", \"few\", \"more\", \"most\", \"other\", \"some\", \"such\", \"no\", \"nor\", \"not\", \"only\", \"own\", \"same\", \"so\", \"than\", \"too\", \"very\", \"s\", \"t\", \"can\", \"will\", \"just\", \"don\", \"should\", \"now\"]\n",
    "\n",
    "print('the' in ENGLISH_STOP_WORDS) \n",
    "\n",
    "data = [list(filter(lambda word: not word in ENGLISH_STOP_WORDS, simple_preprocess(piece))) for piece in newsgroups_train.data]"
   ]
  },
  {
   "cell_type": "markdown",
   "metadata": {},
   "source": [
    "$\\textbf{Большое задание 1.}$\n",
    "\n",
    "Для списка data создайте словарь id2word. Получите преобразованный TermDocumentFrequency список corpust и обучите на нем LDA модель."
   ]
  },
  {
   "cell_type": "code",
   "execution_count": 39,
   "metadata": {
    "tags": [
     "outputPrepend",
     "outputPrepend"
    ]
   },
   "outputs": [
    {
     "output_type": "stream",
     "name": "stdout",
     "text": "['considering', 'adding', 'floptical', 'drive', 'current', 'system', 'would', 'like', 'know', 'floptical', 'drives', 'recommended', 'quality', 'performance', 'preference', 'would', 'floptical', 'drives', 'capable', 'handling', 'floppies', 'handling', 'floppies', 'necessity', 'far', 'know', 'bit', 'iomega', 'floptical', 'infinity', 'floptical', 'drives', 'comments', 'recommendations', 'either', 'floptical', 'drives', 'worth', 'looking', 'purchased', 'mail', 'order', 'places', 'etc', 'thanks', 'advance', 'please', 'send', 'replies', 'directly', 'umsoroko', 'ccu', 'umanitoba', 'ca']\n[[(0, 1), (1, 1), (2, 1), (3, 1), (4, 1), (5, 1), (6, 1), (7, 1), (8, 1), (9, 1), (10, 1), (11, 4), (12, 1), (13, 1), (14, 1), (15, 2), (16, 6), (17, 2), (18, 1), (19, 1), (20, 2), (21, 1), (22, 1), (23, 1), (24, 1), (25, 1), (26, 1), (27, 1), (28, 1), (29, 1), (30, 1), (31, 1), (32, 1), (33, 1), (34, 1), (35, 1), (36, 1), (37, 1), (38, 1), (39, 1), (40, 1), (41, 2)]]\n"
    }
   ],
   "source": [
    "from gensim.models import LdaModel, LsiModel\n",
    "\n",
    "print(data[0])\n",
    "id2word = corpora.Dictionary(data)\n",
    "\n",
    "# Create Corpus\n",
    "texts = data\n",
    "\n",
    "# Term Document Frequency\n",
    "corpus = [id2word.doc2bow(text) for text in texts]\n",
    "\n",
    "# View\n",
    "print(corpus[:1])\n",
    "\n",
    "model = LdaModel(corpus, id2word=id2word, num_topics=len(categories))"
   ]
  },
  {
   "cell_type": "code",
   "execution_count": 40,
   "metadata": {},
   "outputs": [
    {
     "output_type": "stream",
     "name": "stdout",
     "text": "['people', 'one', 'would', 'documentary', 'massacring', 'sane', 'reasonable', 'tony', 'invaders', 'many']\n['smileys', 'stab', 'predicted', 'cares', 'one', 'anyway', 'could', 'psuvm', 'wrote', 'first']\n['bible', 'people', 'would', 'one', 'tony', 'many', 'think', 'religious', 'reasonable', 'could']\n['blues', 'one', 'conform', 'go', 'right', 'game', 'left', 'first', 'could', 'hawks']\n['kurds', 'turkey', 'armenian', 'russian', 'caucasus', 'volunteers', 'bristol', 'power', 'source', 'moslems']\n['think', 'gt', 'chart', 'manta', 'team', 'surprise', 'patrick', 'pretty', 'washington', 'american']\n['go', 'would', 'lindros', 'ottawa', 'nothing', 'let', 'maybe', 'edu', 'rangers', 'beezer']\n"
    }
   ],
   "source": [
    "# Список тем:\n",
    "for i in range(len(categories)):\n",
    "    print([id2word[id[0]] for id in model.get_topic_terms(topicid = i, topn = 10)])"
   ]
  },
  {
   "cell_type": "markdown",
   "metadata": {},
   "source": [
    "$\\textbf{Большое задание 2.}$\n",
    "\n",
    "В соответствии с тренировочными, обработайте тестовые данные.\n",
    "\n",
    "Напишите функцию, которая с помощью модели возвращает наиболее вероятный id темы. С помощью F-меры оцените правильность работы модели."
   ]
  },
  {
   "cell_type": "code",
   "execution_count": 41,
   "metadata": {},
   "outputs": [],
   "source": [
    "newsgroups_test = fetch_20newsgroups(subset='test', remove=('headers', 'footers', 'quotes'), categories = categories)"
   ]
  },
  {
   "cell_type": "code",
   "execution_count": 42,
   "metadata": {},
   "outputs": [],
   "source": [
    "data = [list(filter(lambda word: not word in ENGLISH_STOP_WORDS, simple_preprocess(piece))) for piece in newsgroups_test.data]\n",
    "corpus = [id2word.doc2bow(text) for text in data]\n",
    "vector = [model[unseen_doc] for unseen_doc in corpus]"
   ]
  },
  {
   "cell_type": "code",
   "execution_count": 43,
   "metadata": {},
   "outputs": [],
   "source": [
    "def probability(text, vector):\n",
    "    res = vector[text]\n",
    "\n",
    "    max_it = 0\n",
    "    if(len(res) > 0):\n",
    "        for it in range(1, len(res)):\n",
    "            if(res[max_it][1] < res[it][1]):\n",
    "                max_it = it\n",
    "        return max_it\n",
    "\n",
    "    return -1"
   ]
  },
  {
   "cell_type": "code",
   "execution_count": 44,
   "metadata": {
    "tags": [
     "outputPrepend",
     "outputPrepend"
    ]
   },
   "outputs": [
    {
     "output_type": "stream",
     "name": "stdout",
     "text": "0.19722534683164605\n(5, 1, 4, 6, 2, 3, 0)\n"
    }
   ],
   "source": [
    "from sklearn.metrics import f1_score\n",
    "import itertools\n",
    "\n",
    "replace = [0, 1, 2, 3, 4, 5, 6]\n",
    "\n",
    "predicted = []\n",
    "\n",
    "maximum = 0\n",
    "\n",
    "replace_lists = list(itertools.permutations(replace))\n",
    "\n",
    "for l in replace_lists:\n",
    "    for i in range(len(newsgroups_test.data)):\n",
    "        predicted.append(l[probability(i, vector)])\n",
    "\n",
    "    score = f1_score(y_true=newsgroups_test.target, y_pred=predicted, average='micro')\n",
    "    \n",
    "    if score > maximum:\n",
    "        maximum = score\n",
    "        replace = l\n",
    "\n",
    "    predicted = []\n",
    "\n",
    "print(maximum)\n",
    "print(replace)"
   ]
  },
  {
   "cell_type": "code",
   "execution_count": 35,
   "metadata": {},
   "outputs": [],
   "source": [
    "from sklearn.metrics import f1_score\n",
    "import itertools\n",
    "\n",
    "replace = [1, 4, 2, 5, 0, 3, 6]\n",
    "\n",
    "predicted = []\n",
    "\n",
    "for i in range(len(newsgroups_test.data)):\n",
    "    predicted.append(replace[probability(i, vector)])"
   ]
  },
  {
   "cell_type": "code",
   "execution_count": 36,
   "metadata": {},
   "outputs": [
    {
     "output_type": "execute_result",
     "data": {
      "text/plain": "0.19460067491563554"
     },
     "metadata": {},
     "execution_count": 36
    }
   ],
   "source": [
    "f1_score(y_true=newsgroups_test.target, y_pred=predicted, average='micro'"
   ]
  },
  {
   "cell_type": "code",
   "execution_count": null,
   "metadata": {},
   "outputs": [],
   "source": []
  }
 ],
 "metadata": {
  "kernelspec": {
   "display_name": "Python 3",
   "language": "python",
   "name": "python3"
  },
  "language_info": {
   "codemirror_mode": {
    "name": "ipython",
    "version": 3
   },
   "file_extension": ".py",
   "mimetype": "text/x-python",
   "name": "python",
   "nbconvert_exporter": "python",
   "pygments_lexer": "ipython3",
   "version": "3.7.3-final"
  }
 },
 "nbformat": 4,
 "nbformat_minor": 2
}